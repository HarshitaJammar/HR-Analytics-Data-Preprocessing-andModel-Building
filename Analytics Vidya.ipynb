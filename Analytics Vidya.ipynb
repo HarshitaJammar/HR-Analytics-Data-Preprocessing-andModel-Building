{
 "cells": [
  {
   "cell_type": "code",
   "execution_count": 655,
   "id": "e9667b9e",
   "metadata": {},
   "outputs": [],
   "source": [
    "import pandas as pd\n",
    "import numpy as np\n",
    "import matplotlib.pyplot as plt\n",
    "%matplotlib inline"
   ]
  },
  {
   "cell_type": "code",
   "execution_count": 656,
   "id": "a9210799",
   "metadata": {},
   "outputs": [],
   "source": [
    "hrtrain = pd.read_csv('train_LZdllcl.csv')"
   ]
  },
  {
   "cell_type": "code",
   "execution_count": 657,
   "id": "973346c0",
   "metadata": {},
   "outputs": [],
   "source": [
    "hrtest = pd.read_csv('test_2umaH9m.csv')"
   ]
  },
  {
   "cell_type": "code",
   "execution_count": 658,
   "id": "ad1825f3",
   "metadata": {},
   "outputs": [
    {
     "data": {
      "text/html": [
       "<div>\n",
       "<style scoped>\n",
       "    .dataframe tbody tr th:only-of-type {\n",
       "        vertical-align: middle;\n",
       "    }\n",
       "\n",
       "    .dataframe tbody tr th {\n",
       "        vertical-align: top;\n",
       "    }\n",
       "\n",
       "    .dataframe thead th {\n",
       "        text-align: right;\n",
       "    }\n",
       "</style>\n",
       "<table border=\"1\" class=\"dataframe\">\n",
       "  <thead>\n",
       "    <tr style=\"text-align: right;\">\n",
       "      <th></th>\n",
       "      <th>employee_id</th>\n",
       "      <th>department</th>\n",
       "      <th>region</th>\n",
       "      <th>education</th>\n",
       "      <th>gender</th>\n",
       "      <th>recruitment_channel</th>\n",
       "      <th>no_of_trainings</th>\n",
       "      <th>age</th>\n",
       "      <th>previous_year_rating</th>\n",
       "      <th>length_of_service</th>\n",
       "      <th>KPIs_met &gt;80%</th>\n",
       "      <th>awards_won?</th>\n",
       "      <th>avg_training_score</th>\n",
       "      <th>is_promoted</th>\n",
       "    </tr>\n",
       "  </thead>\n",
       "  <tbody>\n",
       "    <tr>\n",
       "      <th>0</th>\n",
       "      <td>65438</td>\n",
       "      <td>Sales &amp; Marketing</td>\n",
       "      <td>region_7</td>\n",
       "      <td>Master's &amp; above</td>\n",
       "      <td>f</td>\n",
       "      <td>sourcing</td>\n",
       "      <td>1</td>\n",
       "      <td>35</td>\n",
       "      <td>5.0</td>\n",
       "      <td>8</td>\n",
       "      <td>1</td>\n",
       "      <td>0</td>\n",
       "      <td>49</td>\n",
       "      <td>0</td>\n",
       "    </tr>\n",
       "    <tr>\n",
       "      <th>1</th>\n",
       "      <td>65141</td>\n",
       "      <td>Operations</td>\n",
       "      <td>region_22</td>\n",
       "      <td>Bachelor's</td>\n",
       "      <td>m</td>\n",
       "      <td>other</td>\n",
       "      <td>1</td>\n",
       "      <td>30</td>\n",
       "      <td>5.0</td>\n",
       "      <td>4</td>\n",
       "      <td>0</td>\n",
       "      <td>0</td>\n",
       "      <td>60</td>\n",
       "      <td>0</td>\n",
       "    </tr>\n",
       "    <tr>\n",
       "      <th>2</th>\n",
       "      <td>7513</td>\n",
       "      <td>Sales &amp; Marketing</td>\n",
       "      <td>region_19</td>\n",
       "      <td>Bachelor's</td>\n",
       "      <td>m</td>\n",
       "      <td>sourcing</td>\n",
       "      <td>1</td>\n",
       "      <td>34</td>\n",
       "      <td>3.0</td>\n",
       "      <td>7</td>\n",
       "      <td>0</td>\n",
       "      <td>0</td>\n",
       "      <td>50</td>\n",
       "      <td>0</td>\n",
       "    </tr>\n",
       "    <tr>\n",
       "      <th>3</th>\n",
       "      <td>2542</td>\n",
       "      <td>Sales &amp; Marketing</td>\n",
       "      <td>region_23</td>\n",
       "      <td>Bachelor's</td>\n",
       "      <td>m</td>\n",
       "      <td>other</td>\n",
       "      <td>2</td>\n",
       "      <td>39</td>\n",
       "      <td>1.0</td>\n",
       "      <td>10</td>\n",
       "      <td>0</td>\n",
       "      <td>0</td>\n",
       "      <td>50</td>\n",
       "      <td>0</td>\n",
       "    </tr>\n",
       "    <tr>\n",
       "      <th>4</th>\n",
       "      <td>48945</td>\n",
       "      <td>Technology</td>\n",
       "      <td>region_26</td>\n",
       "      <td>Bachelor's</td>\n",
       "      <td>m</td>\n",
       "      <td>other</td>\n",
       "      <td>1</td>\n",
       "      <td>45</td>\n",
       "      <td>3.0</td>\n",
       "      <td>2</td>\n",
       "      <td>0</td>\n",
       "      <td>0</td>\n",
       "      <td>73</td>\n",
       "      <td>0</td>\n",
       "    </tr>\n",
       "  </tbody>\n",
       "</table>\n",
       "</div>"
      ],
      "text/plain": [
       "   employee_id         department     region         education gender  \\\n",
       "0        65438  Sales & Marketing   region_7  Master's & above      f   \n",
       "1        65141         Operations  region_22        Bachelor's      m   \n",
       "2         7513  Sales & Marketing  region_19        Bachelor's      m   \n",
       "3         2542  Sales & Marketing  region_23        Bachelor's      m   \n",
       "4        48945         Technology  region_26        Bachelor's      m   \n",
       "\n",
       "  recruitment_channel  no_of_trainings  age  previous_year_rating  \\\n",
       "0            sourcing                1   35                   5.0   \n",
       "1               other                1   30                   5.0   \n",
       "2            sourcing                1   34                   3.0   \n",
       "3               other                2   39                   1.0   \n",
       "4               other                1   45                   3.0   \n",
       "\n",
       "   length_of_service  KPIs_met >80%  awards_won?  avg_training_score  \\\n",
       "0                  8              1            0                  49   \n",
       "1                  4              0            0                  60   \n",
       "2                  7              0            0                  50   \n",
       "3                 10              0            0                  50   \n",
       "4                  2              0            0                  73   \n",
       "\n",
       "   is_promoted  \n",
       "0            0  \n",
       "1            0  \n",
       "2            0  \n",
       "3            0  \n",
       "4            0  "
      ]
     },
     "execution_count": 658,
     "metadata": {},
     "output_type": "execute_result"
    }
   ],
   "source": [
    "hrtrain.head()"
   ]
  },
  {
   "cell_type": "code",
   "execution_count": 659,
   "id": "ee1db999",
   "metadata": {},
   "outputs": [
    {
     "data": {
      "text/html": [
       "<div>\n",
       "<style scoped>\n",
       "    .dataframe tbody tr th:only-of-type {\n",
       "        vertical-align: middle;\n",
       "    }\n",
       "\n",
       "    .dataframe tbody tr th {\n",
       "        vertical-align: top;\n",
       "    }\n",
       "\n",
       "    .dataframe thead th {\n",
       "        text-align: right;\n",
       "    }\n",
       "</style>\n",
       "<table border=\"1\" class=\"dataframe\">\n",
       "  <thead>\n",
       "    <tr style=\"text-align: right;\">\n",
       "      <th></th>\n",
       "      <th>employee_id</th>\n",
       "      <th>department</th>\n",
       "      <th>region</th>\n",
       "      <th>education</th>\n",
       "      <th>gender</th>\n",
       "      <th>recruitment_channel</th>\n",
       "      <th>no_of_trainings</th>\n",
       "      <th>age</th>\n",
       "      <th>previous_year_rating</th>\n",
       "      <th>length_of_service</th>\n",
       "      <th>KPIs_met &gt;80%</th>\n",
       "      <th>awards_won?</th>\n",
       "      <th>avg_training_score</th>\n",
       "      <th>is_promoted</th>\n",
       "    </tr>\n",
       "  </thead>\n",
       "  <tbody>\n",
       "    <tr>\n",
       "      <th>54803</th>\n",
       "      <td>3030</td>\n",
       "      <td>Technology</td>\n",
       "      <td>region_14</td>\n",
       "      <td>Bachelor's</td>\n",
       "      <td>m</td>\n",
       "      <td>sourcing</td>\n",
       "      <td>1</td>\n",
       "      <td>48</td>\n",
       "      <td>3.0</td>\n",
       "      <td>17</td>\n",
       "      <td>0</td>\n",
       "      <td>0</td>\n",
       "      <td>78</td>\n",
       "      <td>0</td>\n",
       "    </tr>\n",
       "    <tr>\n",
       "      <th>54804</th>\n",
       "      <td>74592</td>\n",
       "      <td>Operations</td>\n",
       "      <td>region_27</td>\n",
       "      <td>Master's &amp; above</td>\n",
       "      <td>f</td>\n",
       "      <td>other</td>\n",
       "      <td>1</td>\n",
       "      <td>37</td>\n",
       "      <td>2.0</td>\n",
       "      <td>6</td>\n",
       "      <td>0</td>\n",
       "      <td>0</td>\n",
       "      <td>56</td>\n",
       "      <td>0</td>\n",
       "    </tr>\n",
       "    <tr>\n",
       "      <th>54805</th>\n",
       "      <td>13918</td>\n",
       "      <td>Analytics</td>\n",
       "      <td>region_1</td>\n",
       "      <td>Bachelor's</td>\n",
       "      <td>m</td>\n",
       "      <td>other</td>\n",
       "      <td>1</td>\n",
       "      <td>27</td>\n",
       "      <td>5.0</td>\n",
       "      <td>3</td>\n",
       "      <td>1</td>\n",
       "      <td>0</td>\n",
       "      <td>79</td>\n",
       "      <td>0</td>\n",
       "    </tr>\n",
       "    <tr>\n",
       "      <th>54806</th>\n",
       "      <td>13614</td>\n",
       "      <td>Sales &amp; Marketing</td>\n",
       "      <td>region_9</td>\n",
       "      <td>NaN</td>\n",
       "      <td>m</td>\n",
       "      <td>sourcing</td>\n",
       "      <td>1</td>\n",
       "      <td>29</td>\n",
       "      <td>1.0</td>\n",
       "      <td>2</td>\n",
       "      <td>0</td>\n",
       "      <td>0</td>\n",
       "      <td>45</td>\n",
       "      <td>0</td>\n",
       "    </tr>\n",
       "    <tr>\n",
       "      <th>54807</th>\n",
       "      <td>51526</td>\n",
       "      <td>HR</td>\n",
       "      <td>region_22</td>\n",
       "      <td>Bachelor's</td>\n",
       "      <td>m</td>\n",
       "      <td>other</td>\n",
       "      <td>1</td>\n",
       "      <td>27</td>\n",
       "      <td>1.0</td>\n",
       "      <td>5</td>\n",
       "      <td>0</td>\n",
       "      <td>0</td>\n",
       "      <td>49</td>\n",
       "      <td>0</td>\n",
       "    </tr>\n",
       "  </tbody>\n",
       "</table>\n",
       "</div>"
      ],
      "text/plain": [
       "       employee_id         department     region         education gender  \\\n",
       "54803         3030         Technology  region_14        Bachelor's      m   \n",
       "54804        74592         Operations  region_27  Master's & above      f   \n",
       "54805        13918          Analytics   region_1        Bachelor's      m   \n",
       "54806        13614  Sales & Marketing   region_9               NaN      m   \n",
       "54807        51526                 HR  region_22        Bachelor's      m   \n",
       "\n",
       "      recruitment_channel  no_of_trainings  age  previous_year_rating  \\\n",
       "54803            sourcing                1   48                   3.0   \n",
       "54804               other                1   37                   2.0   \n",
       "54805               other                1   27                   5.0   \n",
       "54806            sourcing                1   29                   1.0   \n",
       "54807               other                1   27                   1.0   \n",
       "\n",
       "       length_of_service  KPIs_met >80%  awards_won?  avg_training_score  \\\n",
       "54803                 17              0            0                  78   \n",
       "54804                  6              0            0                  56   \n",
       "54805                  3              1            0                  79   \n",
       "54806                  2              0            0                  45   \n",
       "54807                  5              0            0                  49   \n",
       "\n",
       "       is_promoted  \n",
       "54803            0  \n",
       "54804            0  \n",
       "54805            0  \n",
       "54806            0  \n",
       "54807            0  "
      ]
     },
     "execution_count": 659,
     "metadata": {},
     "output_type": "execute_result"
    }
   ],
   "source": [
    "hrtrain.tail()"
   ]
  },
  {
   "cell_type": "code",
   "execution_count": 660,
   "id": "87c37447",
   "metadata": {},
   "outputs": [
    {
     "data": {
      "text/plain": [
       "employee_id               int64\n",
       "department               object\n",
       "region                   object\n",
       "education                object\n",
       "gender                   object\n",
       "recruitment_channel      object\n",
       "no_of_trainings           int64\n",
       "age                       int64\n",
       "previous_year_rating    float64\n",
       "length_of_service         int64\n",
       "KPIs_met >80%             int64\n",
       "awards_won?               int64\n",
       "avg_training_score        int64\n",
       "is_promoted               int64\n",
       "dtype: object"
      ]
     },
     "execution_count": 660,
     "metadata": {},
     "output_type": "execute_result"
    }
   ],
   "source": [
    "hrtrain.dtypes"
   ]
  },
  {
   "cell_type": "code",
   "execution_count": 661,
   "id": "f158c4ca",
   "metadata": {},
   "outputs": [
    {
     "data": {
      "text/plain": [
       "Index(['employee_id', 'department', 'region', 'education', 'gender',\n",
       "       'recruitment_channel', 'no_of_trainings', 'age', 'previous_year_rating',\n",
       "       'length_of_service', 'KPIs_met >80%', 'awards_won?',\n",
       "       'avg_training_score', 'is_promoted'],\n",
       "      dtype='object')"
      ]
     },
     "execution_count": 661,
     "metadata": {},
     "output_type": "execute_result"
    }
   ],
   "source": [
    "hrtrain.columns"
   ]
  },
  {
   "cell_type": "code",
   "execution_count": 662,
   "id": "b13fa3bf",
   "metadata": {},
   "outputs": [
    {
     "data": {
      "text/plain": [
       "(54808, 14)"
      ]
     },
     "execution_count": 662,
     "metadata": {},
     "output_type": "execute_result"
    }
   ],
   "source": [
    "hrtrain.shape"
   ]
  },
  {
   "cell_type": "code",
   "execution_count": 663,
   "id": "ac742143",
   "metadata": {},
   "outputs": [
    {
     "name": "stdout",
     "output_type": "stream",
     "text": [
      "<class 'pandas.core.frame.DataFrame'>\n",
      "RangeIndex: 54808 entries, 0 to 54807\n",
      "Data columns (total 14 columns):\n",
      " #   Column                Non-Null Count  Dtype  \n",
      "---  ------                --------------  -----  \n",
      " 0   employee_id           54808 non-null  int64  \n",
      " 1   department            54808 non-null  object \n",
      " 2   region                54808 non-null  object \n",
      " 3   education             52399 non-null  object \n",
      " 4   gender                54808 non-null  object \n",
      " 5   recruitment_channel   54808 non-null  object \n",
      " 6   no_of_trainings       54808 non-null  int64  \n",
      " 7   age                   54808 non-null  int64  \n",
      " 8   previous_year_rating  50684 non-null  float64\n",
      " 9   length_of_service     54808 non-null  int64  \n",
      " 10  KPIs_met >80%         54808 non-null  int64  \n",
      " 11  awards_won?           54808 non-null  int64  \n",
      " 12  avg_training_score    54808 non-null  int64  \n",
      " 13  is_promoted           54808 non-null  int64  \n",
      "dtypes: float64(1), int64(8), object(5)\n",
      "memory usage: 5.9+ MB\n"
     ]
    }
   ],
   "source": [
    "hrtrain.info()"
   ]
  },
  {
   "cell_type": "code",
   "execution_count": 664,
   "id": "a29530b6",
   "metadata": {},
   "outputs": [
    {
     "data": {
      "text/plain": [
       "count    54808.000000\n",
       "mean        63.386750\n",
       "std         13.371559\n",
       "min         39.000000\n",
       "25%         51.000000\n",
       "50%         60.000000\n",
       "75%         76.000000\n",
       "max         99.000000\n",
       "Name: avg_training_score, dtype: float64"
      ]
     },
     "execution_count": 664,
     "metadata": {},
     "output_type": "execute_result"
    }
   ],
   "source": [
    "hrtrain.avg_training_score.describe()"
   ]
  },
  {
   "cell_type": "code",
   "execution_count": 665,
   "id": "3c1eaff1",
   "metadata": {},
   "outputs": [
    {
     "data": {
      "text/plain": [
       "count    54808.000000\n",
       "mean        34.803915\n",
       "std          7.660169\n",
       "min         20.000000\n",
       "25%         29.000000\n",
       "50%         33.000000\n",
       "75%         39.000000\n",
       "max         60.000000\n",
       "Name: age, dtype: float64"
      ]
     },
     "execution_count": 665,
     "metadata": {},
     "output_type": "execute_result"
    }
   ],
   "source": [
    "hrtrain.age.describe()"
   ]
  },
  {
   "cell_type": "code",
   "execution_count": 666,
   "id": "afb2a3f6",
   "metadata": {},
   "outputs": [
    {
     "name": "stdout",
     "output_type": "stream",
     "text": [
      "1.0074317710382241\n",
      "0.7923533691940756\n"
     ]
    }
   ],
   "source": [
    "print(hrtrain.age.skew())\n",
    "print(hrtrain.age.kurt())"
   ]
  },
  {
   "cell_type": "code",
   "execution_count": 667,
   "id": "4c5f4d91",
   "metadata": {},
   "outputs": [
    {
     "name": "stdout",
     "output_type": "stream",
     "text": [
      "0.45190808551707995\n",
      "-1.049649301934108\n"
     ]
    }
   ],
   "source": [
    "print(hrtrain.avg_training_score.skew())\n",
    "print(hrtrain.avg_training_score.kurt())"
   ]
  },
  {
   "cell_type": "code",
   "execution_count": 668,
   "id": "d5dbc129",
   "metadata": {},
   "outputs": [
    {
     "data": {
      "text/plain": [
       "<AxesSubplot:ylabel='Frequency'>"
      ]
     },
     "execution_count": 668,
     "metadata": {},
     "output_type": "execute_result"
    },
    {
     "data": {
      "image/png": "[encoded data removed]",
      "text/plain": [
       "<Figure size 432x288 with 1 Axes>"
      ]
     },
     "metadata": {
      "needs_background": "light"
     },
     "output_type": "display_data"
    }
   ],
   "source": [
    "hrtrain.avg_training_score.plot(kind='hist')"
   ]
  },
  {
   "cell_type": "code",
   "execution_count": 669,
   "id": "860c563d",
   "metadata": {},
   "outputs": [
    {
     "data": {
      "text/plain": [
       "<AxesSubplot:>"
      ]
     },
     "execution_count": 669,
     "metadata": {},
     "output_type": "execute_result"
    },
    {
     "data": {
      "image/png": "[encoded data removed]",
      "text/plain": [
       "<Figure size 432x288 with 1 Axes>"
      ]
     },
     "metadata": {
      "needs_background": "light"
     },
     "output_type": "display_data"
    }
   ],
   "source": [
    "hrtrain.avg_training_score.plot(kind='box',vert=False)"
   ]
  },
  {
   "cell_type": "code",
   "execution_count": 670,
   "id": "2dd94276",
   "metadata": {},
   "outputs": [
    {
     "data": {
      "text/plain": [
       "<AxesSubplot:ylabel='Density'>"
      ]
     },
     "execution_count": 670,
     "metadata": {},
     "output_type": "execute_result"
    },
    {
     "data": {
      "image/png": "[encoded data removed]",
      "text/plain": [
       "<Figure size 432x288 with 1 Axes>"
      ]
     },
     "metadata": {
      "needs_background": "light"
     },
     "output_type": "display_data"
    }
   ],
   "source": [
    "hrtrain.avg_training_score.plot(kind='density')"
   ]
  },
  {
   "cell_type": "code",
   "execution_count": 671,
   "id": "0d122d81",
   "metadata": {},
   "outputs": [
    {
     "data": {
      "text/html": [
       "<div>\n",
       "<style scoped>\n",
       "    .dataframe tbody tr th:only-of-type {\n",
       "        vertical-align: middle;\n",
       "    }\n",
       "\n",
       "    .dataframe tbody tr th {\n",
       "        vertical-align: top;\n",
       "    }\n",
       "\n",
       "    .dataframe thead th {\n",
       "        text-align: right;\n",
       "    }\n",
       "</style>\n",
       "<table border=\"1\" class=\"dataframe\">\n",
       "  <thead>\n",
       "    <tr style=\"text-align: right;\">\n",
       "      <th></th>\n",
       "      <th>age</th>\n",
       "      <th>avg_training_score</th>\n",
       "    </tr>\n",
       "  </thead>\n",
       "  <tbody>\n",
       "    <tr>\n",
       "      <th>age</th>\n",
       "      <td>58.678192</td>\n",
       "      <td>-4.955455</td>\n",
       "    </tr>\n",
       "    <tr>\n",
       "      <th>avg_training_score</th>\n",
       "      <td>-4.955455</td>\n",
       "      <td>178.798603</td>\n",
       "    </tr>\n",
       "  </tbody>\n",
       "</table>\n",
       "</div>"
      ],
      "text/plain": [
       "                          age  avg_training_score\n",
       "age                 58.678192           -4.955455\n",
       "avg_training_score  -4.955455          178.798603"
      ]
     },
     "execution_count": 671,
     "metadata": {},
     "output_type": "execute_result"
    }
   ],
   "source": [
    "hrtrain[['age','avg_training_score']].cov()"
   ]
  },
  {
   "cell_type": "code",
   "execution_count": 672,
   "id": "1147fa89",
   "metadata": {},
   "outputs": [
    {
     "data": {
      "text/html": [
       "<div>\n",
       "<style scoped>\n",
       "    .dataframe tbody tr th:only-of-type {\n",
       "        vertical-align: middle;\n",
       "    }\n",
       "\n",
       "    .dataframe tbody tr th {\n",
       "        vertical-align: top;\n",
       "    }\n",
       "\n",
       "    .dataframe thead th {\n",
       "        text-align: right;\n",
       "    }\n",
       "</style>\n",
       "<table border=\"1\" class=\"dataframe\">\n",
       "  <thead>\n",
       "    <tr style=\"text-align: right;\">\n",
       "      <th></th>\n",
       "      <th>age</th>\n",
       "      <th>avg_training_score</th>\n",
       "    </tr>\n",
       "  </thead>\n",
       "  <tbody>\n",
       "    <tr>\n",
       "      <th>age</th>\n",
       "      <td>1.00000</td>\n",
       "      <td>-0.04838</td>\n",
       "    </tr>\n",
       "    <tr>\n",
       "      <th>avg_training_score</th>\n",
       "      <td>-0.04838</td>\n",
       "      <td>1.00000</td>\n",
       "    </tr>\n",
       "  </tbody>\n",
       "</table>\n",
       "</div>"
      ],
      "text/plain": [
       "                        age  avg_training_score\n",
       "age                 1.00000            -0.04838\n",
       "avg_training_score -0.04838             1.00000"
      ]
     },
     "execution_count": 672,
     "metadata": {},
     "output_type": "execute_result"
    }
   ],
   "source": [
    "hrtrain[['age','avg_training_score']].corr()"
   ]
  },
  {
   "cell_type": "code",
   "execution_count": 673,
   "id": "f952ca40",
   "metadata": {},
   "outputs": [
    {
     "data": {
      "text/plain": [
       "<AxesSubplot:xlabel='age', ylabel='avg_training_score'>"
      ]
     },
     "execution_count": 673,
     "metadata": {},
     "output_type": "execute_result"
    },
    {
     "data": {
      "image/png": "[encoded data removed]",
      "text/plain": [
       "<Figure size 432x288 with 1 Axes>"
      ]
     },
     "metadata": {
      "needs_background": "light"
     },
     "output_type": "display_data"
    }
   ],
   "source": [
    "hrtrain.plot(x='age',y='avg_training_score',kind='scatter')"
   ]
  },
  {
   "cell_type": "code",
   "execution_count": 674,
   "id": "abfeb778",
   "metadata": {},
   "outputs": [
    {
     "data": {
      "text/plain": [
       "Bachelor's          36669\n",
       "Master's & above    14925\n",
       "NaN                  2409\n",
       "Below Secondary       805\n",
       "Name: education, dtype: int64"
      ]
     },
     "execution_count": 674,
     "metadata": {},
     "output_type": "execute_result"
    }
   ],
   "source": [
    "hrtrain.education.value_counts(dropna=False)"
   ]
  },
  {
   "cell_type": "code",
   "execution_count": 675,
   "id": "e4dd0ed5",
   "metadata": {},
   "outputs": [
    {
     "data": {
      "text/plain": [
       "m    38496\n",
       "f    16312\n",
       "Name: gender, dtype: int64"
      ]
     },
     "execution_count": 675,
     "metadata": {},
     "output_type": "execute_result"
    }
   ],
   "source": [
    "hrtrain.gender.value_counts(dropna=False)"
   ]
  },
  {
   "cell_type": "code",
   "execution_count": 676,
   "id": "0013a291",
   "metadata": {},
   "outputs": [
    {
     "data": {
      "text/plain": [
       "Sales & Marketing    16840\n",
       "Operations           11348\n",
       "Technology            7138\n",
       "Procurement           7138\n",
       "Analytics             5352\n",
       "Finance               2536\n",
       "HR                    2418\n",
       "Legal                 1039\n",
       "R&D                    999\n",
       "Name: department, dtype: int64"
      ]
     },
     "execution_count": 676,
     "metadata": {},
     "output_type": "execute_result"
    }
   ],
   "source": [
    "hrtrain.department.value_counts(dropna=False)"
   ]
  },
  {
   "cell_type": "code",
   "execution_count": 677,
   "id": "448ec26a",
   "metadata": {},
   "outputs": [
    {
     "data": {
      "text/html": [
       "<div>\n",
       "<style scoped>\n",
       "    .dataframe tbody tr th:only-of-type {\n",
       "        vertical-align: middle;\n",
       "    }\n",
       "\n",
       "    .dataframe tbody tr th {\n",
       "        vertical-align: top;\n",
       "    }\n",
       "\n",
       "    .dataframe thead th {\n",
       "        text-align: right;\n",
       "    }\n",
       "</style>\n",
       "<table border=\"1\" class=\"dataframe\">\n",
       "  <thead>\n",
       "    <tr style=\"text-align: right;\">\n",
       "      <th>gender</th>\n",
       "      <th>f</th>\n",
       "      <th>m</th>\n",
       "    </tr>\n",
       "    <tr>\n",
       "      <th>department</th>\n",
       "      <th></th>\n",
       "      <th></th>\n",
       "    </tr>\n",
       "  </thead>\n",
       "  <tbody>\n",
       "    <tr>\n",
       "      <th>Analytics</th>\n",
       "      <td>513</td>\n",
       "      <td>4839</td>\n",
       "    </tr>\n",
       "    <tr>\n",
       "      <th>Finance</th>\n",
       "      <td>681</td>\n",
       "      <td>1855</td>\n",
       "    </tr>\n",
       "    <tr>\n",
       "      <th>HR</th>\n",
       "      <td>1006</td>\n",
       "      <td>1412</td>\n",
       "    </tr>\n",
       "    <tr>\n",
       "      <th>Legal</th>\n",
       "      <td>149</td>\n",
       "      <td>890</td>\n",
       "    </tr>\n",
       "    <tr>\n",
       "      <th>Operations</th>\n",
       "      <td>4677</td>\n",
       "      <td>6671</td>\n",
       "    </tr>\n",
       "    <tr>\n",
       "      <th>Procurement</th>\n",
       "      <td>3287</td>\n",
       "      <td>3851</td>\n",
       "    </tr>\n",
       "    <tr>\n",
       "      <th>R&amp;D</th>\n",
       "      <td>57</td>\n",
       "      <td>942</td>\n",
       "    </tr>\n",
       "    <tr>\n",
       "      <th>Sales &amp; Marketing</th>\n",
       "      <td>3154</td>\n",
       "      <td>13686</td>\n",
       "    </tr>\n",
       "    <tr>\n",
       "      <th>Technology</th>\n",
       "      <td>2788</td>\n",
       "      <td>4350</td>\n",
       "    </tr>\n",
       "  </tbody>\n",
       "</table>\n",
       "</div>"
      ],
      "text/plain": [
       "gender                f      m\n",
       "department                    \n",
       "Analytics           513   4839\n",
       "Finance             681   1855\n",
       "HR                 1006   1412\n",
       "Legal               149    890\n",
       "Operations         4677   6671\n",
       "Procurement        3287   3851\n",
       "R&D                  57    942\n",
       "Sales & Marketing  3154  13686\n",
       "Technology         2788   4350"
      ]
     },
     "execution_count": 677,
     "metadata": {},
     "output_type": "execute_result"
    }
   ],
   "source": [
    "pd.crosstab(hrtrain.department,hrtrain.gender)   #cross tabulation"
   ]
  },
  {
   "cell_type": "code",
   "execution_count": 678,
   "id": "9ab4d599",
   "metadata": {},
   "outputs": [
    {
     "data": {
      "text/html": [
       "<div>\n",
       "<style scoped>\n",
       "    .dataframe tbody tr th:only-of-type {\n",
       "        vertical-align: middle;\n",
       "    }\n",
       "\n",
       "    .dataframe tbody tr th {\n",
       "        vertical-align: top;\n",
       "    }\n",
       "\n",
       "    .dataframe thead th {\n",
       "        text-align: right;\n",
       "    }\n",
       "</style>\n",
       "<table border=\"1\" class=\"dataframe\">\n",
       "  <thead>\n",
       "    <tr style=\"text-align: right;\">\n",
       "      <th>education</th>\n",
       "      <th>Bachelor's</th>\n",
       "      <th>Below Secondary</th>\n",
       "      <th>Master's &amp; above</th>\n",
       "    </tr>\n",
       "    <tr>\n",
       "      <th>department</th>\n",
       "      <th></th>\n",
       "      <th></th>\n",
       "      <th></th>\n",
       "    </tr>\n",
       "  </thead>\n",
       "  <tbody>\n",
       "    <tr>\n",
       "      <th>Analytics</th>\n",
       "      <td>3978</td>\n",
       "      <td>0</td>\n",
       "      <td>1037</td>\n",
       "    </tr>\n",
       "    <tr>\n",
       "      <th>Finance</th>\n",
       "      <td>1895</td>\n",
       "      <td>106</td>\n",
       "      <td>499</td>\n",
       "    </tr>\n",
       "    <tr>\n",
       "      <th>HR</th>\n",
       "      <td>1525</td>\n",
       "      <td>128</td>\n",
       "      <td>733</td>\n",
       "    </tr>\n",
       "    <tr>\n",
       "      <th>Legal</th>\n",
       "      <td>814</td>\n",
       "      <td>65</td>\n",
       "      <td>156</td>\n",
       "    </tr>\n",
       "    <tr>\n",
       "      <th>Operations</th>\n",
       "      <td>7781</td>\n",
       "      <td>176</td>\n",
       "      <td>3165</td>\n",
       "    </tr>\n",
       "    <tr>\n",
       "      <th>Procurement</th>\n",
       "      <td>4393</td>\n",
       "      <td>129</td>\n",
       "      <td>2544</td>\n",
       "    </tr>\n",
       "    <tr>\n",
       "      <th>R&amp;D</th>\n",
       "      <td>542</td>\n",
       "      <td>0</td>\n",
       "      <td>429</td>\n",
       "    </tr>\n",
       "    <tr>\n",
       "      <th>Sales &amp; Marketing</th>\n",
       "      <td>11099</td>\n",
       "      <td>0</td>\n",
       "      <td>4166</td>\n",
       "    </tr>\n",
       "    <tr>\n",
       "      <th>Technology</th>\n",
       "      <td>4642</td>\n",
       "      <td>201</td>\n",
       "      <td>2196</td>\n",
       "    </tr>\n",
       "  </tbody>\n",
       "</table>\n",
       "</div>"
      ],
      "text/plain": [
       "education          Bachelor's  Below Secondary  Master's & above\n",
       "department                                                      \n",
       "Analytics                3978                0              1037\n",
       "Finance                  1895              106               499\n",
       "HR                       1525              128               733\n",
       "Legal                     814               65               156\n",
       "Operations               7781              176              3165\n",
       "Procurement              4393              129              2544\n",
       "R&D                       542                0               429\n",
       "Sales & Marketing       11099                0              4166\n",
       "Technology               4642              201              2196"
      ]
     },
     "execution_count": 678,
     "metadata": {},
     "output_type": "execute_result"
    }
   ],
   "source": [
    "pd.crosstab(hrtrain.department,hrtrain.education)   #cross tabulation"
   ]
  },
  {
   "cell_type": "code",
   "execution_count": 679,
   "id": "69e971ff",
   "metadata": {},
   "outputs": [
    {
     "data": {
      "text/plain": [
       "3.0    18618\n",
       "5.0    11741\n",
       "4.0     9877\n",
       "1.0     6223\n",
       "2.0     4225\n",
       "NaN     4124\n",
       "Name: previous_year_rating, dtype: int64"
      ]
     },
     "execution_count": 679,
     "metadata": {},
     "output_type": "execute_result"
    }
   ],
   "source": [
    "hrtrain.previous_year_rating.value_counts(dropna=False)"
   ]
  },
  {
   "cell_type": "code",
   "execution_count": 680,
   "id": "c0588237",
   "metadata": {},
   "outputs": [
    {
     "data": {
      "text/html": [
       "<div>\n",
       "<style scoped>\n",
       "    .dataframe tbody tr th:only-of-type {\n",
       "        vertical-align: middle;\n",
       "    }\n",
       "\n",
       "    .dataframe tbody tr th {\n",
       "        vertical-align: top;\n",
       "    }\n",
       "\n",
       "    .dataframe thead th {\n",
       "        text-align: right;\n",
       "    }\n",
       "</style>\n",
       "<table border=\"1\" class=\"dataframe\">\n",
       "  <thead>\n",
       "    <tr style=\"text-align: right;\">\n",
       "      <th>gender</th>\n",
       "      <th>f</th>\n",
       "      <th>m</th>\n",
       "    </tr>\n",
       "    <tr>\n",
       "      <th>previous_year_rating</th>\n",
       "      <th></th>\n",
       "      <th></th>\n",
       "    </tr>\n",
       "  </thead>\n",
       "  <tbody>\n",
       "    <tr>\n",
       "      <th>1.0</th>\n",
       "      <td>1661</td>\n",
       "      <td>4562</td>\n",
       "    </tr>\n",
       "    <tr>\n",
       "      <th>2.0</th>\n",
       "      <td>1221</td>\n",
       "      <td>3004</td>\n",
       "    </tr>\n",
       "    <tr>\n",
       "      <th>3.0</th>\n",
       "      <td>5633</td>\n",
       "      <td>12985</td>\n",
       "    </tr>\n",
       "    <tr>\n",
       "      <th>4.0</th>\n",
       "      <td>3037</td>\n",
       "      <td>6840</td>\n",
       "    </tr>\n",
       "    <tr>\n",
       "      <th>5.0</th>\n",
       "      <td>3602</td>\n",
       "      <td>8139</td>\n",
       "    </tr>\n",
       "  </tbody>\n",
       "</table>\n",
       "</div>"
      ],
      "text/plain": [
       "gender                   f      m\n",
       "previous_year_rating             \n",
       "1.0                   1661   4562\n",
       "2.0                   1221   3004\n",
       "3.0                   5633  12985\n",
       "4.0                   3037   6840\n",
       "5.0                   3602   8139"
      ]
     },
     "execution_count": 680,
     "metadata": {},
     "output_type": "execute_result"
    }
   ],
   "source": [
    "pd.crosstab(hrtrain.previous_year_rating,hrtrain.gender)   #cross tabulation"
   ]
  },
  {
   "cell_type": "code",
   "execution_count": 681,
   "id": "ec7d7607",
   "metadata": {},
   "outputs": [
    {
     "data": {
      "text/plain": [
       "gender\n",
       "f    63.889897\n",
       "m    63.173550\n",
       "Name: avg_training_score, dtype: float64"
      ]
     },
     "execution_count": 681,
     "metadata": {},
     "output_type": "execute_result"
    }
   ],
   "source": [
    "hrtrain.avg_training_score.groupby(hrtrain.gender).mean()"
   ]
  },
  {
   "cell_type": "code",
   "execution_count": 682,
   "id": "ec3a8734",
   "metadata": {},
   "outputs": [
    {
     "data": {
      "text/plain": [
       "gender\n",
       "f    33.0\n",
       "m    33.0\n",
       "Name: age, dtype: float64"
      ]
     },
     "execution_count": 682,
     "metadata": {},
     "output_type": "execute_result"
    }
   ],
   "source": [
    "hrtrain.age.groupby(hrtrain.gender).median()"
   ]
  },
  {
   "cell_type": "code",
   "execution_count": 683,
   "id": "f736b422",
   "metadata": {},
   "outputs": [
    {
     "data": {
      "text/plain": [
       "previous_year_rating\n",
       "1.0    60.064760\n",
       "2.0    61.924024\n",
       "3.0    64.197819\n",
       "4.0    64.119773\n",
       "5.0    63.781364\n",
       "Name: avg_training_score, dtype: float64"
      ]
     },
     "execution_count": 683,
     "metadata": {},
     "output_type": "execute_result"
    }
   ],
   "source": [
    "hrtrain.avg_training_score.groupby(hrtrain.previous_year_rating).mean()"
   ]
  },
  {
   "cell_type": "code",
   "execution_count": 684,
   "id": "3dbef318",
   "metadata": {},
   "outputs": [
    {
     "data": {
      "text/plain": [
       "previous_year_rating\n",
       "1.0    6.223686\n",
       "2.0    6.241893\n",
       "3.0    6.309324\n",
       "4.0    6.193986\n",
       "5.0    6.269142\n",
       "Name: length_of_service, dtype: float64"
      ]
     },
     "execution_count": 684,
     "metadata": {},
     "output_type": "execute_result"
    }
   ],
   "source": [
    "hrtrain.length_of_service.groupby(hrtrain.previous_year_rating).mean()"
   ]
  },
  {
   "cell_type": "code",
   "execution_count": 685,
   "id": "028a523e",
   "metadata": {},
   "outputs": [
    {
     "data": {
      "text/plain": [
       "0    50140\n",
       "1     4668\n",
       "Name: is_promoted, dtype: int64"
      ]
     },
     "execution_count": 685,
     "metadata": {},
     "output_type": "execute_result"
    }
   ],
   "source": [
    "hrtrain.is_promoted.value_counts(dropna=False)"
   ]
  },
  {
   "cell_type": "code",
   "execution_count": 686,
   "id": "1c83d6cc",
   "metadata": {},
   "outputs": [
    {
     "data": {
      "text/plain": [
       "is_promoted\n",
       "0    62.647686\n",
       "1    71.325193\n",
       "Name: avg_training_score, dtype: float64"
      ]
     },
     "execution_count": 686,
     "metadata": {},
     "output_type": "execute_result"
    }
   ],
   "source": [
    "hrtrain.avg_training_score.groupby(hrtrain.is_promoted).mean()"
   ]
  },
  {
   "cell_type": "code",
   "execution_count": 687,
   "id": "a389a400",
   "metadata": {},
   "outputs": [
    {
     "data": {
      "text/plain": [
       "is_promoted\n",
       "0    5.879398\n",
       "1    5.716367\n",
       "Name: length_of_service, dtype: float64"
      ]
     },
     "execution_count": 687,
     "metadata": {},
     "output_type": "execute_result"
    }
   ],
   "source": [
    "hrtrain.length_of_service.groupby(hrtrain.is_promoted).mean()"
   ]
  },
  {
   "cell_type": "code",
   "execution_count": 688,
   "id": "6dcfc138",
   "metadata": {},
   "outputs": [
    {
     "data": {
      "text/plain": [
       "is_promoted  gender\n",
       "0            f         63.089256\n",
       "             m         62.461963\n",
       "1            f         71.991820\n",
       "             m         71.019681\n",
       "Name: avg_training_score, dtype: float64"
      ]
     },
     "execution_count": 688,
     "metadata": {},
     "output_type": "execute_result"
    }
   ],
   "source": [
    "hrtrain.avg_training_score.groupby([hrtrain.is_promoted,hrtrain.gender]).mean()"
   ]
  },
  {
   "cell_type": "code",
   "execution_count": 689,
   "id": "96761102",
   "metadata": {},
   "outputs": [
    {
     "data": {
      "text/plain": [
       "awards_won?  is_promoted\n",
       "0            0              5.896963\n",
       "             1              5.828912\n",
       "1            0              4.658228\n",
       "             1              4.889088\n",
       "Name: length_of_service, dtype: float64"
      ]
     },
     "execution_count": 689,
     "metadata": {},
     "output_type": "execute_result"
    }
   ],
   "source": [
    "hrtrain.length_of_service.groupby([hrtrain['awards_won?'],hrtrain.is_promoted]).mean()"
   ]
  },
  {
   "cell_type": "code",
   "execution_count": 690,
   "id": "1bf3fd6e",
   "metadata": {},
   "outputs": [
    {
     "data": {
      "text/plain": [
       "recruitment_channel\n",
       "other       1.0\n",
       "referred    1.0\n",
       "sourcing    1.0\n",
       "Name: no_of_trainings, dtype: float64"
      ]
     },
     "execution_count": 690,
     "metadata": {},
     "output_type": "execute_result"
    }
   ],
   "source": [
    "hrtrain.no_of_trainings.groupby(hrtrain.recruitment_channel).median()"
   ]
  },
  {
   "cell_type": "code",
   "execution_count": 691,
   "id": "072f0747",
   "metadata": {},
   "outputs": [
    {
     "data": {
      "text/html": [
       "<div>\n",
       "<style scoped>\n",
       "    .dataframe tbody tr th:only-of-type {\n",
       "        vertical-align: middle;\n",
       "    }\n",
       "\n",
       "    .dataframe tbody tr th {\n",
       "        vertical-align: top;\n",
       "    }\n",
       "\n",
       "    .dataframe thead th {\n",
       "        text-align: right;\n",
       "    }\n",
       "</style>\n",
       "<table border=\"1\" class=\"dataframe\">\n",
       "  <thead>\n",
       "    <tr style=\"text-align: right;\">\n",
       "      <th>is_promoted</th>\n",
       "      <th>0</th>\n",
       "      <th>1</th>\n",
       "    </tr>\n",
       "    <tr>\n",
       "      <th>gender</th>\n",
       "      <th></th>\n",
       "      <th></th>\n",
       "    </tr>\n",
       "  </thead>\n",
       "  <tbody>\n",
       "    <tr>\n",
       "      <th>f</th>\n",
       "      <td>14845</td>\n",
       "      <td>1467</td>\n",
       "    </tr>\n",
       "    <tr>\n",
       "      <th>m</th>\n",
       "      <td>35295</td>\n",
       "      <td>3201</td>\n",
       "    </tr>\n",
       "  </tbody>\n",
       "</table>\n",
       "</div>"
      ],
      "text/plain": [
       "is_promoted      0     1\n",
       "gender                  \n",
       "f            14845  1467\n",
       "m            35295  3201"
      ]
     },
     "execution_count": 691,
     "metadata": {},
     "output_type": "execute_result"
    }
   ],
   "source": [
    "pd.crosstab(hrtrain.gender,hrtrain.is_promoted)   "
   ]
  },
  {
   "cell_type": "code",
   "execution_count": 692,
   "id": "6c2f5527",
   "metadata": {},
   "outputs": [
    {
     "data": {
      "text/html": [
       "<div>\n",
       "<style scoped>\n",
       "    .dataframe tbody tr th:only-of-type {\n",
       "        vertical-align: middle;\n",
       "    }\n",
       "\n",
       "    .dataframe tbody tr th {\n",
       "        vertical-align: top;\n",
       "    }\n",
       "\n",
       "    .dataframe thead th {\n",
       "        text-align: right;\n",
       "    }\n",
       "</style>\n",
       "<table border=\"1\" class=\"dataframe\">\n",
       "  <thead>\n",
       "    <tr style=\"text-align: right;\">\n",
       "      <th>is_promoted</th>\n",
       "      <th>0</th>\n",
       "      <th>1</th>\n",
       "    </tr>\n",
       "    <tr>\n",
       "      <th>gender</th>\n",
       "      <th></th>\n",
       "      <th></th>\n",
       "    </tr>\n",
       "  </thead>\n",
       "  <tbody>\n",
       "    <tr>\n",
       "      <th>f</th>\n",
       "      <td>0.270855</td>\n",
       "      <td>0.026766</td>\n",
       "    </tr>\n",
       "    <tr>\n",
       "      <th>m</th>\n",
       "      <td>0.643975</td>\n",
       "      <td>0.058404</td>\n",
       "    </tr>\n",
       "  </tbody>\n",
       "</table>\n",
       "</div>"
      ],
      "text/plain": [
       "is_promoted         0         1\n",
       "gender                         \n",
       "f            0.270855  0.026766\n",
       "m            0.643975  0.058404"
      ]
     },
     "execution_count": 692,
     "metadata": {},
     "output_type": "execute_result"
    }
   ],
   "source": [
    "pd.crosstab(hrtrain.gender,hrtrain.is_promoted,normalize=True)"
   ]
  },
  {
   "cell_type": "code",
   "execution_count": 693,
   "id": "16b35232",
   "metadata": {},
   "outputs": [
    {
     "data": {
      "text/html": [
       "<div>\n",
       "<style scoped>\n",
       "    .dataframe tbody tr th:only-of-type {\n",
       "        vertical-align: middle;\n",
       "    }\n",
       "\n",
       "    .dataframe tbody tr th {\n",
       "        vertical-align: top;\n",
       "    }\n",
       "\n",
       "    .dataframe thead th {\n",
       "        text-align: right;\n",
       "    }\n",
       "</style>\n",
       "<table border=\"1\" class=\"dataframe\">\n",
       "  <thead>\n",
       "    <tr style=\"text-align: right;\">\n",
       "      <th>is_promoted</th>\n",
       "      <th>0</th>\n",
       "      <th>1</th>\n",
       "    </tr>\n",
       "    <tr>\n",
       "      <th>department</th>\n",
       "      <th></th>\n",
       "      <th></th>\n",
       "    </tr>\n",
       "  </thead>\n",
       "  <tbody>\n",
       "    <tr>\n",
       "      <th>Analytics</th>\n",
       "      <td>90.0</td>\n",
       "      <td>10.0</td>\n",
       "    </tr>\n",
       "    <tr>\n",
       "      <th>Finance</th>\n",
       "      <td>92.0</td>\n",
       "      <td>8.0</td>\n",
       "    </tr>\n",
       "    <tr>\n",
       "      <th>HR</th>\n",
       "      <td>94.0</td>\n",
       "      <td>6.0</td>\n",
       "    </tr>\n",
       "    <tr>\n",
       "      <th>Legal</th>\n",
       "      <td>95.0</td>\n",
       "      <td>5.0</td>\n",
       "    </tr>\n",
       "    <tr>\n",
       "      <th>Operations</th>\n",
       "      <td>91.0</td>\n",
       "      <td>9.0</td>\n",
       "    </tr>\n",
       "    <tr>\n",
       "      <th>Procurement</th>\n",
       "      <td>90.0</td>\n",
       "      <td>10.0</td>\n",
       "    </tr>\n",
       "    <tr>\n",
       "      <th>R&amp;D</th>\n",
       "      <td>93.0</td>\n",
       "      <td>7.0</td>\n",
       "    </tr>\n",
       "    <tr>\n",
       "      <th>Sales &amp; Marketing</th>\n",
       "      <td>93.0</td>\n",
       "      <td>7.0</td>\n",
       "    </tr>\n",
       "    <tr>\n",
       "      <th>Technology</th>\n",
       "      <td>89.0</td>\n",
       "      <td>11.0</td>\n",
       "    </tr>\n",
       "    <tr>\n",
       "      <th>All</th>\n",
       "      <td>91.0</td>\n",
       "      <td>9.0</td>\n",
       "    </tr>\n",
       "  </tbody>\n",
       "</table>\n",
       "</div>"
      ],
      "text/plain": [
       "is_promoted           0     1\n",
       "department                   \n",
       "Analytics          90.0  10.0\n",
       "Finance            92.0   8.0\n",
       "HR                 94.0   6.0\n",
       "Legal              95.0   5.0\n",
       "Operations         91.0   9.0\n",
       "Procurement        90.0  10.0\n",
       "R&D                93.0   7.0\n",
       "Sales & Marketing  93.0   7.0\n",
       "Technology         89.0  11.0\n",
       "All                91.0   9.0"
      ]
     },
     "execution_count": 693,
     "metadata": {},
     "output_type": "execute_result"
    }
   ],
   "source": [
    "np.round(pd.crosstab(hrtrain.department,hrtrain.is_promoted,margins=True,normalize='index'),decimals=2)*100"
   ]
  },
  {
   "cell_type": "code",
   "execution_count": 694,
   "id": "113b4085",
   "metadata": {},
   "outputs": [
    {
     "data": {
      "text/plain": [
       "<AxesSubplot:xlabel='department'>"
      ]
     },
     "execution_count": 694,
     "metadata": {},
     "output_type": "execute_result"
    },
    {
     "data": {
      "image/png": "[encoded data removed]",
      "text/plain": [
       "<Figure size 432x288 with 1 Axes>"
      ]
     },
     "metadata": {
      "needs_background": "light"
     },
     "output_type": "display_data"
    }
   ],
   "source": [
    "(np.round(pd.crosstab(hrtrain.department,hrtrain.is_promoted,margins=True,normalize='index'),decimals=2)*100).plot(kind='bar',stacked=True)"
   ]
  },
  {
   "cell_type": "code",
   "execution_count": 695,
   "id": "eff6778e",
   "metadata": {},
   "outputs": [
    {
     "data": {
      "text/plain": [
       "count    54808.000000\n",
       "mean        63.386750\n",
       "std         13.371559\n",
       "min         39.000000\n",
       "25%         51.000000\n",
       "50%         60.000000\n",
       "75%         76.000000\n",
       "max         99.000000\n",
       "Name: avg_training_score, dtype: float64"
      ]
     },
     "execution_count": 695,
     "metadata": {},
     "output_type": "execute_result"
    }
   ],
   "source": [
    "hrtrain.avg_training_score.describe()"
   ]
  },
  {
   "cell_type": "code",
   "execution_count": 696,
   "id": "bf24eb41",
   "metadata": {},
   "outputs": [
    {
     "data": {
      "text/plain": [
       "Bad        25868\n",
       "Average    18416\n",
       "Good       10524\n",
       "dtype: int64"
      ]
     },
     "execution_count": 696,
     "metadata": {},
     "output_type": "execute_result"
    }
   ],
   "source": [
    "pd.cut(np.array(hrtrain.avg_training_score),3,labels=['Bad','Average','Good']).value_counts()"
   ]
  },
  {
   "cell_type": "code",
   "execution_count": 697,
   "id": "5ff70ea3",
   "metadata": {},
   "outputs": [],
   "source": [
    "bins=[29,39,49,59,69,79,89,99]\n",
    "hrtrain['bins']=pd.cut(hrtrain.avg_training_score,bins)"
   ]
  },
  {
   "cell_type": "code",
   "execution_count": 698,
   "id": "ca1c3493",
   "metadata": {},
   "outputs": [
    {
     "data": {
      "text/plain": [
       "(29, 39]        2\n",
       "(39, 49]     9285\n",
       "(49, 59]    16581\n",
       "(59, 69]    11073\n",
       "(69, 79]     7343\n",
       "(79, 89]     9760\n",
       "(89, 99]      764\n",
       "Name: bins, dtype: int64"
      ]
     },
     "execution_count": 698,
     "metadata": {},
     "output_type": "execute_result"
    }
   ],
   "source": [
    "hrtrain.bins.value_counts().sort_index()"
   ]
  },
  {
   "cell_type": "code",
   "execution_count": 699,
   "id": "9e3d118d",
   "metadata": {},
   "outputs": [
    {
     "data": {
      "text/plain": [
       "(0, 5]      30932\n",
       "(5, 10]     17990\n",
       "(10, 15]     3539\n",
       "(15, 20]     1829\n",
       "(20, 25]      325\n",
       "(25, 30]      149\n",
       "(30, 35]       43\n",
       "(35, 40]        1\n",
       "Name: bins, dtype: int64"
      ]
     },
     "execution_count": 699,
     "metadata": {},
     "output_type": "execute_result"
    }
   ],
   "source": [
    "bins=[0,5,10,15,20,25,30,35,40]\n",
    "hrtrain['bins']=pd.cut(hrtrain.length_of_service,bins)\n",
    "hrtrain.bins.value_counts().sort_index()"
   ]
  },
  {
   "cell_type": "code",
   "execution_count": 700,
   "id": "315b075e",
   "metadata": {},
   "outputs": [
    {
     "data": {
      "text/plain": [
       "Index(['employee_id', 'department', 'region', 'education', 'gender',\n",
       "       'recruitment_channel', 'no_of_trainings', 'age', 'previous_year_rating',\n",
       "       'length_of_service', 'KPIs_met >80%', 'awards_won?',\n",
       "       'avg_training_score', 'is_promoted', 'bins'],\n",
       "      dtype='object')"
      ]
     },
     "execution_count": 700,
     "metadata": {},
     "output_type": "execute_result"
    }
   ],
   "source": [
    "hrtrain.columns"
   ]
  },
  {
   "cell_type": "code",
   "execution_count": 701,
   "id": "f6a8b65b",
   "metadata": {},
   "outputs": [
    {
     "data": {
      "text/html": [
       "<div>\n",
       "<style scoped>\n",
       "    .dataframe tbody tr th:only-of-type {\n",
       "        vertical-align: middle;\n",
       "    }\n",
       "\n",
       "    .dataframe tbody tr th {\n",
       "        vertical-align: top;\n",
       "    }\n",
       "\n",
       "    .dataframe thead th {\n",
       "        text-align: right;\n",
       "    }\n",
       "</style>\n",
       "<table border=\"1\" class=\"dataframe\">\n",
       "  <thead>\n",
       "    <tr style=\"text-align: right;\">\n",
       "      <th></th>\n",
       "      <th>no_of_trainings</th>\n",
       "      <th>age</th>\n",
       "      <th>length_of_service</th>\n",
       "      <th>avg_training_score</th>\n",
       "    </tr>\n",
       "  </thead>\n",
       "  <tbody>\n",
       "    <tr>\n",
       "      <th>no_of_trainings</th>\n",
       "      <td>0.371203</td>\n",
       "      <td>-0.379329</td>\n",
       "      <td>-0.148832</td>\n",
       "      <td>0.346378</td>\n",
       "    </tr>\n",
       "    <tr>\n",
       "      <th>age</th>\n",
       "      <td>-0.379329</td>\n",
       "      <td>58.678192</td>\n",
       "      <td>21.468711</td>\n",
       "      <td>-4.955455</td>\n",
       "    </tr>\n",
       "    <tr>\n",
       "      <th>length_of_service</th>\n",
       "      <td>-0.148832</td>\n",
       "      <td>21.468711</td>\n",
       "      <td>18.191028</td>\n",
       "      <td>-2.174143</td>\n",
       "    </tr>\n",
       "    <tr>\n",
       "      <th>avg_training_score</th>\n",
       "      <td>0.346378</td>\n",
       "      <td>-4.955455</td>\n",
       "      <td>-2.174143</td>\n",
       "      <td>178.798603</td>\n",
       "    </tr>\n",
       "  </tbody>\n",
       "</table>\n",
       "</div>"
      ],
      "text/plain": [
       "                    no_of_trainings        age  length_of_service  \\\n",
       "no_of_trainings            0.371203  -0.379329          -0.148832   \n",
       "age                       -0.379329  58.678192          21.468711   \n",
       "length_of_service         -0.148832  21.468711          18.191028   \n",
       "avg_training_score         0.346378  -4.955455          -2.174143   \n",
       "\n",
       "                    avg_training_score  \n",
       "no_of_trainings               0.346378  \n",
       "age                          -4.955455  \n",
       "length_of_service            -2.174143  \n",
       "avg_training_score          178.798603  "
      ]
     },
     "execution_count": 701,
     "metadata": {},
     "output_type": "execute_result"
    }
   ],
   "source": [
    "hrtrain[['no_of_trainings', 'age','length_of_service','avg_training_score']].cov()"
   ]
  },
  {
   "cell_type": "code",
   "execution_count": 702,
   "id": "6af7ba67",
   "metadata": {},
   "outputs": [
    {
     "data": {
      "text/html": [
       "<div>\n",
       "<style scoped>\n",
       "    .dataframe tbody tr th:only-of-type {\n",
       "        vertical-align: middle;\n",
       "    }\n",
       "\n",
       "    .dataframe tbody tr th {\n",
       "        vertical-align: top;\n",
       "    }\n",
       "\n",
       "    .dataframe thead th {\n",
       "        text-align: right;\n",
       "    }\n",
       "</style>\n",
       "<table border=\"1\" class=\"dataframe\">\n",
       "  <thead>\n",
       "    <tr style=\"text-align: right;\">\n",
       "      <th></th>\n",
       "      <th>no_of_trainings</th>\n",
       "      <th>age</th>\n",
       "      <th>length_of_service</th>\n",
       "      <th>avg_training_score</th>\n",
       "    </tr>\n",
       "  </thead>\n",
       "  <tbody>\n",
       "    <tr>\n",
       "      <th>no_of_trainings</th>\n",
       "      <td>1.000000</td>\n",
       "      <td>-0.081278</td>\n",
       "      <td>-0.057275</td>\n",
       "      <td>0.042517</td>\n",
       "    </tr>\n",
       "    <tr>\n",
       "      <th>age</th>\n",
       "      <td>-0.081278</td>\n",
       "      <td>1.000000</td>\n",
       "      <td>0.657111</td>\n",
       "      <td>-0.048380</td>\n",
       "    </tr>\n",
       "    <tr>\n",
       "      <th>length_of_service</th>\n",
       "      <td>-0.057275</td>\n",
       "      <td>0.657111</td>\n",
       "      <td>1.000000</td>\n",
       "      <td>-0.038122</td>\n",
       "    </tr>\n",
       "    <tr>\n",
       "      <th>avg_training_score</th>\n",
       "      <td>0.042517</td>\n",
       "      <td>-0.048380</td>\n",
       "      <td>-0.038122</td>\n",
       "      <td>1.000000</td>\n",
       "    </tr>\n",
       "  </tbody>\n",
       "</table>\n",
       "</div>"
      ],
      "text/plain": [
       "                    no_of_trainings       age  length_of_service  \\\n",
       "no_of_trainings            1.000000 -0.081278          -0.057275   \n",
       "age                       -0.081278  1.000000           0.657111   \n",
       "length_of_service         -0.057275  0.657111           1.000000   \n",
       "avg_training_score         0.042517 -0.048380          -0.038122   \n",
       "\n",
       "                    avg_training_score  \n",
       "no_of_trainings               0.042517  \n",
       "age                          -0.048380  \n",
       "length_of_service            -0.038122  \n",
       "avg_training_score            1.000000  "
      ]
     },
     "execution_count": 702,
     "metadata": {},
     "output_type": "execute_result"
    }
   ],
   "source": [
    "hrtrain[['no_of_trainings', 'age','length_of_service','avg_training_score']].corr()"
   ]
  },
  {
   "cell_type": "code",
   "execution_count": 703,
   "id": "9aa33a02",
   "metadata": {},
   "outputs": [],
   "source": [
    "import seaborn as sns"
   ]
  },
  {
   "cell_type": "code",
   "execution_count": 704,
   "id": "ff2a202c",
   "metadata": {},
   "outputs": [
    {
     "data": {
      "text/plain": [
       "<AxesSubplot:>"
      ]
     },
     "execution_count": 704,
     "metadata": {},
     "output_type": "execute_result"
    },
    {
     "data": {
      "image/png": "[encoded data removed]",
      "text/plain": [
       "<Figure size 432x288 with 2 Axes>"
      ]
     },
     "metadata": {
      "needs_background": "light"
     },
     "output_type": "display_data"
    }
   ],
   "source": [
    "sns.heatmap(hrtrain[['no_of_trainings', 'age','length_of_service','avg_training_score']].corr(),annot=True)"
   ]
  },
  {
   "cell_type": "code",
   "execution_count": 705,
   "id": "8ee5f50a",
   "metadata": {},
   "outputs": [
    {
     "data": {
      "text/plain": [
       "is_promoted\n",
       "0    62.647686\n",
       "1    71.325193\n",
       "Name: avg_training_score, dtype: float64"
      ]
     },
     "execution_count": 705,
     "metadata": {},
     "output_type": "execute_result"
    }
   ],
   "source": [
    "hrtrain.avg_training_score.groupby(hrtrain.is_promoted).mean()"
   ]
  },
  {
   "cell_type": "code",
   "execution_count": 706,
   "id": "e403784f",
   "metadata": {},
   "outputs": [
    {
     "data": {
      "text/plain": [
       "is_promoted\n",
       "0    5.879398\n",
       "1    5.716367\n",
       "Name: length_of_service, dtype: float64"
      ]
     },
     "execution_count": 706,
     "metadata": {},
     "output_type": "execute_result"
    }
   ],
   "source": [
    "hrtrain.length_of_service.groupby(hrtrain.is_promoted).mean()"
   ]
  },
  {
   "cell_type": "code",
   "execution_count": 707,
   "id": "62c25ad2",
   "metadata": {},
   "outputs": [
    {
     "data": {
      "text/plain": [
       "awards_won?\n",
       "0    63.238186\n",
       "1    69.649606\n",
       "Name: avg_training_score, dtype: float64"
      ]
     },
     "execution_count": 707,
     "metadata": {},
     "output_type": "execute_result"
    }
   ],
   "source": [
    "hrtrain.avg_training_score.groupby(hrtrain['awards_won?']).mean()      #what is the avg_training score of awards_won? 0 or 1 ?"
   ]
  },
  {
   "cell_type": "code",
   "execution_count": 708,
   "id": "ffa16f26",
   "metadata": {},
   "outputs": [
    {
     "data": {
      "text/plain": [
       "awards_won?  KPIs_met >80%\n",
       "0            0                62.507213\n",
       "             1                64.626963\n",
       "1            0                71.126984\n",
       "             1                68.863691\n",
       "Name: avg_training_score, dtype: float64"
      ]
     },
     "execution_count": 708,
     "metadata": {},
     "output_type": "execute_result"
    }
   ],
   "source": [
    "hrtrain.avg_training_score.groupby([hrtrain['awards_won?'],hrtrain['KPIs_met >80%']]).mean()    #2 categorical variables in group by"
   ]
  },
  {
   "cell_type": "code",
   "execution_count": 709,
   "id": "c6184fa6",
   "metadata": {},
   "outputs": [
    {
     "data": {
      "text/plain": [
       "previous_year_rating    4124\n",
       "education               2409\n",
       "employee_id                0\n",
       "department                 0\n",
       "region                     0\n",
       "gender                     0\n",
       "recruitment_channel        0\n",
       "no_of_trainings            0\n",
       "age                        0\n",
       "length_of_service          0\n",
       "KPIs_met >80%              0\n",
       "awards_won?                0\n",
       "avg_training_score         0\n",
       "is_promoted                0\n",
       "bins                       0\n",
       "dtype: int64"
      ]
     },
     "execution_count": 709,
     "metadata": {},
     "output_type": "execute_result"
    }
   ],
   "source": [
    "hrtrain.isnull().sum().sort_values(ascending=False)"
   ]
  },
  {
   "cell_type": "code",
   "execution_count": 710,
   "id": "7177fae7",
   "metadata": {},
   "outputs": [
    {
     "data": {
      "text/plain": [
       "previous_year_rating    1812\n",
       "education               1034\n",
       "employee_id                0\n",
       "department                 0\n",
       "region                     0\n",
       "gender                     0\n",
       "recruitment_channel        0\n",
       "no_of_trainings            0\n",
       "age                        0\n",
       "length_of_service          0\n",
       "KPIs_met >80%              0\n",
       "awards_won?                0\n",
       "avg_training_score         0\n",
       "dtype: int64"
      ]
     },
     "execution_count": 710,
     "metadata": {},
     "output_type": "execute_result"
    }
   ],
   "source": [
    "hrtest.isnull().sum().sort_values(ascending=False)"
   ]
  },
  {
   "cell_type": "code",
   "execution_count": 711,
   "id": "a3d285cb",
   "metadata": {},
   "outputs": [],
   "source": [
    "# reimport train data as the earlier data had new variables\n",
    "hrtrain = pd.read_csv('train_LZdllcl.csv')"
   ]
  },
  {
   "cell_type": "code",
   "execution_count": 712,
   "id": "a436d594",
   "metadata": {},
   "outputs": [],
   "source": [
    "hrtest = pd.read_csv('test_2umaH9m.csv')"
   ]
  },
  {
   "cell_type": "code",
   "execution_count": 713,
   "id": "c695a0d4",
   "metadata": {},
   "outputs": [],
   "source": [
    "hrtest['is_promoted']='test'# adding dependent variable to test data for row concatenation"
   ]
  },
  {
   "cell_type": "code",
   "execution_count": 714,
   "id": "f0d310c9",
   "metadata": {},
   "outputs": [],
   "source": [
    "combinedf=pd.concat([hrtrain,hrtest],axis=0) #row wise concatenation"
   ]
  },
  {
   "cell_type": "code",
   "execution_count": 715,
   "id": "e4d5055e",
   "metadata": {},
   "outputs": [
    {
     "data": {
      "text/plain": [
       "(78298, 14)"
      ]
     },
     "execution_count": 715,
     "metadata": {},
     "output_type": "execute_result"
    }
   ],
   "source": [
    "combinedf.shape\n"
   ]
  },
  {
   "cell_type": "code",
   "execution_count": 716,
   "id": "150a1d5a",
   "metadata": {},
   "outputs": [
    {
     "data": {
      "text/plain": [
       "Bachelor's          52247\n",
       "Master's & above    21429\n",
       "NaN                  3443\n",
       "Below Secondary      1179\n",
       "Name: education, dtype: int64"
      ]
     },
     "execution_count": 716,
     "metadata": {},
     "output_type": "execute_result"
    }
   ],
   "source": [
    "combinedf.education.value_counts(dropna=False)"
   ]
  },
  {
   "cell_type": "code",
   "execution_count": 717,
   "id": "f58a68f4",
   "metadata": {},
   "outputs": [],
   "source": [
    "# impute missing values in education variable with the word \"Bachelor's\". because NA's are only 4.4% \n",
    "#and Bachelors is very large segment,there will be no effect on data pattern/trend\n",
    "combinedf.education=combinedf.education.fillna(\"Bachelor's\")"
   ]
  },
  {
   "cell_type": "code",
   "execution_count": 718,
   "id": "463b6ffd",
   "metadata": {},
   "outputs": [
    {
     "data": {
      "text/plain": [
       "3.0    26539\n",
       "5.0    16838\n",
       "4.0    14126\n",
       "1.0     8903\n",
       "2.0     5956\n",
       "NaN     5936\n",
       "Name: previous_year_rating, dtype: int64"
      ]
     },
     "execution_count": 718,
     "metadata": {},
     "output_type": "execute_result"
    }
   ],
   "source": [
    "combinedf.previous_year_rating.value_counts(dropna=False)"
   ]
  },
  {
   "cell_type": "code",
   "execution_count": 719,
   "id": "7ba93fa2",
   "metadata": {},
   "outputs": [],
   "source": [
    "combinedf.previous_year_rating=combinedf.previous_year_rating.fillna(3.0)\n",
    "# impute with 3.0 rating as it is the largest segment and missing values are few"
   ]
  },
  {
   "cell_type": "code",
   "execution_count": 720,
   "id": "94b5d1a2",
   "metadata": {},
   "outputs": [],
   "source": [
    "# for dummy encoding or label encoding we must split data into numeric and oject columns\n",
    "numericcols=combinedf.select_dtypes(include=np.number) # np.number will consider both int64 and float 64\n",
    "objectcols=combinedf.select_dtypes(include=['object']) # object columns\n"
   ]
  },
  {
   "cell_type": "code",
   "execution_count": 721,
   "id": "7aa71915",
   "metadata": {},
   "outputs": [
    {
     "name": "stdout",
     "output_type": "stream",
     "text": [
      "(78298, 8)\n",
      "(78298, 6)\n"
     ]
    }
   ],
   "source": [
    "print(numericcols.shape)\n",
    "print(objectcols.shape)"
   ]
  },
  {
   "cell_type": "code",
   "execution_count": 722,
   "id": "18cf8c87",
   "metadata": {},
   "outputs": [
    {
     "data": {
      "text/plain": [
       "Index(['employee_id', 'no_of_trainings', 'age', 'previous_year_rating',\n",
       "       'length_of_service', 'KPIs_met >80%', 'awards_won?',\n",
       "       'avg_training_score'],\n",
       "      dtype='object')"
      ]
     },
     "execution_count": 722,
     "metadata": {},
     "output_type": "execute_result"
    }
   ],
   "source": [
    "numericcols.columns #all numeric data will not be numeric they might be representing categories\n",
    "# 'previous_year_rating'(1-5),'KPIs_met >80%', 'awards_won?'- 0 is no and 1 is yes"
   ]
  },
  {
   "cell_type": "code",
   "execution_count": 723,
   "id": "d8bb7e79",
   "metadata": {},
   "outputs": [
    {
     "data": {
      "text/plain": [
       "0    50578\n",
       "1    27720\n",
       "Name: KPIs_met >80%, dtype: int64"
      ]
     },
     "execution_count": 723,
     "metadata": {},
     "output_type": "execute_result"
    }
   ],
   "source": [
    "numericcols['KPIs_met >80%'].value_counts()"
   ]
  },
  {
   "cell_type": "code",
   "execution_count": 724,
   "id": "2ccb9125",
   "metadata": {},
   "outputs": [
    {
     "data": {
      "text/plain": [
       "0    76493\n",
       "1     1805\n",
       "Name: awards_won?, dtype: int64"
      ]
     },
     "execution_count": 724,
     "metadata": {},
     "output_type": "execute_result"
    }
   ],
   "source": [
    "numericcols['awards_won?'].value_counts()"
   ]
  },
  {
   "cell_type": "code",
   "execution_count": 725,
   "id": "88ed1b7e",
   "metadata": {},
   "outputs": [],
   "source": [
    "objectcols['previous_year_rating']=numericcols['previous_year_rating']\n",
    "objectcols['KPIs_met >80%']=numericcols['KPIs_met >80%']\n",
    "objectcols['awards_won?']=numericcols['awards_won?']\n",
    "# add categorical cols from numeric cols to object cols"
   ]
  },
  {
   "cell_type": "code",
   "execution_count": 726,
   "id": "e4caff2c",
   "metadata": {},
   "outputs": [],
   "source": [
    "numericcols=numericcols.drop(['previous_year_rating','KPIs_met >80%','awards_won?'],axis=1)\n",
    "#drop categorical cols from numeric cols. aixs=1 is column dropping"
   ]
  },
  {
   "cell_type": "code",
   "execution_count": 727,
   "id": "4be3fe6b",
   "metadata": {},
   "outputs": [],
   "source": [
    "numericcols['is_promoted']=objectcols.is_promoted"
   ]
  },
  {
   "cell_type": "code",
   "execution_count": 728,
   "id": "7c38a6b1",
   "metadata": {},
   "outputs": [],
   "source": [
    "objectcols=objectcols.drop('is_promoted',axis=1)"
   ]
  },
  {
   "cell_type": "code",
   "execution_count": 729,
   "id": "1ba041bf",
   "metadata": {},
   "outputs": [
    {
     "name": "stdout",
     "output_type": "stream",
     "text": [
      "(78298, 6)\n",
      "(78298, 8)\n"
     ]
    }
   ],
   "source": [
    "print(numericcols.shape)\n",
    "print(objectcols.shape)"
   ]
  },
  {
   "cell_type": "code",
   "execution_count": 730,
   "id": "0e45fc84",
   "metadata": {},
   "outputs": [
    {
     "data": {
      "text/html": [
       "<div>\n",
       "<style scoped>\n",
       "    .dataframe tbody tr th:only-of-type {\n",
       "        vertical-align: middle;\n",
       "    }\n",
       "\n",
       "    .dataframe tbody tr th {\n",
       "        vertical-align: top;\n",
       "    }\n",
       "\n",
       "    .dataframe thead th {\n",
       "        text-align: right;\n",
       "    }\n",
       "</style>\n",
       "<table border=\"1\" class=\"dataframe\">\n",
       "  <thead>\n",
       "    <tr style=\"text-align: right;\">\n",
       "      <th></th>\n",
       "      <th>department</th>\n",
       "      <th>region</th>\n",
       "      <th>education</th>\n",
       "      <th>gender</th>\n",
       "      <th>recruitment_channel</th>\n",
       "      <th>previous_year_rating</th>\n",
       "      <th>KPIs_met &gt;80%</th>\n",
       "      <th>awards_won?</th>\n",
       "    </tr>\n",
       "  </thead>\n",
       "  <tbody>\n",
       "    <tr>\n",
       "      <th>0</th>\n",
       "      <td>Sales &amp; Marketing</td>\n",
       "      <td>region_7</td>\n",
       "      <td>Master's &amp; above</td>\n",
       "      <td>f</td>\n",
       "      <td>sourcing</td>\n",
       "      <td>5.0</td>\n",
       "      <td>1</td>\n",
       "      <td>0</td>\n",
       "    </tr>\n",
       "    <tr>\n",
       "      <th>1</th>\n",
       "      <td>Operations</td>\n",
       "      <td>region_22</td>\n",
       "      <td>Bachelor's</td>\n",
       "      <td>m</td>\n",
       "      <td>other</td>\n",
       "      <td>5.0</td>\n",
       "      <td>0</td>\n",
       "      <td>0</td>\n",
       "    </tr>\n",
       "    <tr>\n",
       "      <th>2</th>\n",
       "      <td>Sales &amp; Marketing</td>\n",
       "      <td>region_19</td>\n",
       "      <td>Bachelor's</td>\n",
       "      <td>m</td>\n",
       "      <td>sourcing</td>\n",
       "      <td>3.0</td>\n",
       "      <td>0</td>\n",
       "      <td>0</td>\n",
       "    </tr>\n",
       "  </tbody>\n",
       "</table>\n",
       "</div>"
      ],
      "text/plain": [
       "          department     region         education gender recruitment_channel  \\\n",
       "0  Sales & Marketing   region_7  Master's & above      f            sourcing   \n",
       "1         Operations  region_22        Bachelor's      m               other   \n",
       "2  Sales & Marketing  region_19        Bachelor's      m            sourcing   \n",
       "\n",
       "   previous_year_rating  KPIs_met >80%  awards_won?  \n",
       "0                   5.0              1            0  \n",
       "1                   5.0              0            0  \n",
       "2                   3.0              0            0  "
      ]
     },
     "execution_count": 730,
     "metadata": {},
     "output_type": "execute_result"
    }
   ],
   "source": [
    "objectcols.head(3)"
   ]
  },
  {
   "cell_type": "code",
   "execution_count": 731,
   "id": "8b66bc0e",
   "metadata": {},
   "outputs": [],
   "source": [
    "from sklearn.preprocessing import LabelEncoder"
   ]
  },
  {
   "cell_type": "code",
   "execution_count": 732,
   "id": "eb11d96e",
   "metadata": {},
   "outputs": [],
   "source": [
    "le=LabelEncoder()"
   ]
  },
  {
   "cell_type": "code",
   "execution_count": 733,
   "id": "935392b2",
   "metadata": {},
   "outputs": [],
   "source": [
    "objectcolsdummy=objectcols.apply(le.fit_transform)"
   ]
  },
  {
   "cell_type": "code",
   "execution_count": 734,
   "id": "e706be77",
   "metadata": {},
   "outputs": [
    {
     "data": {
      "text/html": [
       "<div>\n",
       "<style scoped>\n",
       "    .dataframe tbody tr th:only-of-type {\n",
       "        vertical-align: middle;\n",
       "    }\n",
       "\n",
       "    .dataframe tbody tr th {\n",
       "        vertical-align: top;\n",
       "    }\n",
       "\n",
       "    .dataframe thead th {\n",
       "        text-align: right;\n",
       "    }\n",
       "</style>\n",
       "<table border=\"1\" class=\"dataframe\">\n",
       "  <thead>\n",
       "    <tr style=\"text-align: right;\">\n",
       "      <th></th>\n",
       "      <th>department</th>\n",
       "      <th>region</th>\n",
       "      <th>education</th>\n",
       "      <th>gender</th>\n",
       "      <th>recruitment_channel</th>\n",
       "      <th>previous_year_rating</th>\n",
       "      <th>KPIs_met &gt;80%</th>\n",
       "      <th>awards_won?</th>\n",
       "    </tr>\n",
       "  </thead>\n",
       "  <tbody>\n",
       "    <tr>\n",
       "      <th>0</th>\n",
       "      <td>7</td>\n",
       "      <td>31</td>\n",
       "      <td>2</td>\n",
       "      <td>0</td>\n",
       "      <td>2</td>\n",
       "      <td>4</td>\n",
       "      <td>1</td>\n",
       "      <td>0</td>\n",
       "    </tr>\n",
       "    <tr>\n",
       "      <th>1</th>\n",
       "      <td>4</td>\n",
       "      <td>14</td>\n",
       "      <td>0</td>\n",
       "      <td>1</td>\n",
       "      <td>0</td>\n",
       "      <td>4</td>\n",
       "      <td>0</td>\n",
       "      <td>0</td>\n",
       "    </tr>\n",
       "    <tr>\n",
       "      <th>2</th>\n",
       "      <td>7</td>\n",
       "      <td>10</td>\n",
       "      <td>0</td>\n",
       "      <td>1</td>\n",
       "      <td>2</td>\n",
       "      <td>2</td>\n",
       "      <td>0</td>\n",
       "      <td>0</td>\n",
       "    </tr>\n",
       "  </tbody>\n",
       "</table>\n",
       "</div>"
      ],
      "text/plain": [
       "   department  region  education  gender  recruitment_channel  \\\n",
       "0           7      31          2       0                    2   \n",
       "1           4      14          0       1                    0   \n",
       "2           7      10          0       1                    2   \n",
       "\n",
       "   previous_year_rating  KPIs_met >80%  awards_won?  \n",
       "0                     4              1            0  \n",
       "1                     4              0            0  \n",
       "2                     2              0            0  "
      ]
     },
     "execution_count": 734,
     "metadata": {},
     "output_type": "execute_result"
    }
   ],
   "source": [
    "objectcolsdummy.head(3)"
   ]
  },
  {
   "cell_type": "code",
   "execution_count": 735,
   "id": "66140ded",
   "metadata": {},
   "outputs": [],
   "source": [
    "# concat both dataframes numeric and object into one\n",
    "combinedf_clean=pd.concat([numericcols,objectcolsdummy],axis=1)"
   ]
  },
  {
   "cell_type": "code",
   "execution_count": 736,
   "id": "28601504",
   "metadata": {},
   "outputs": [],
   "source": [
    "# split back to traindata and testdata\n",
    "hrtraindf=combinedf_clean[combinedf_clean.is_promoted!='test']\n",
    "hrtestdf=combinedf_clean[combinedf_clean.is_promoted=='test']"
   ]
  },
  {
   "cell_type": "code",
   "execution_count": 737,
   "id": "5d4eed31",
   "metadata": {},
   "outputs": [],
   "source": [
    "hrtestdf=hrtestdf.drop('is_promoted',axis=1)"
   ]
  },
  {
   "cell_type": "code",
   "execution_count": 738,
   "id": "b4244999",
   "metadata": {},
   "outputs": [
    {
     "data": {
      "text/plain": [
       "0    50140\n",
       "1     4668\n",
       "Name: is_promoted, dtype: int64"
      ]
     },
     "execution_count": 738,
     "metadata": {},
     "output_type": "execute_result"
    }
   ],
   "source": [
    "hrtraindf.is_promoted.value_counts()"
   ]
  },
  {
   "cell_type": "code",
   "execution_count": 739,
   "id": "20b4a35e",
   "metadata": {},
   "outputs": [
    {
     "data": {
      "text/plain": [
       "is_promoted\n",
       "0    62.647686\n",
       "1    71.325193\n",
       "Name: avg_training_score, dtype: float64"
      ]
     },
     "execution_count": 739,
     "metadata": {},
     "output_type": "execute_result"
    }
   ],
   "source": [
    "#test null average avg_training_score of is_promoted 0&1 equal?\n",
    "hrtraindf.avg_training_score.groupby(hrtraindf.is_promoted).mean()"
   ]
  },
  {
   "cell_type": "code",
   "execution_count": 740,
   "id": "3f779ae5",
   "metadata": {},
   "outputs": [],
   "source": [
    "# since there are exactly 2 variables in categorical variable - 2 sample independent t test\n",
    "# Null - There is no significant difference in average avg_training_score of is_promoted 0&1\n",
    "# Alt - There is significant difference in average avg_training_score of is_promoted 0&1"
   ]
  },
  {
   "cell_type": "code",
   "execution_count": 741,
   "id": "3a2df6af",
   "metadata": {},
   "outputs": [],
   "source": [
    "promotedyes=hrtraindf[hrtraindf.is_promoted==1]\n",
    "promotedno=hrtraindf[hrtraindf.is_promoted==0]"
   ]
  },
  {
   "cell_type": "code",
   "execution_count": 742,
   "id": "52d3874f",
   "metadata": {},
   "outputs": [],
   "source": [
    "from scipy.stats import ttest_ind"
   ]
  },
  {
   "cell_type": "code",
   "execution_count": 743,
   "id": "6da2118a",
   "metadata": {},
   "outputs": [
    {
     "data": {
      "text/plain": [
       "Ttest_indResult(statistic=38.82675007357188, pvalue=7.662329172468838e-291)"
      ]
     },
     "execution_count": 743,
     "metadata": {},
     "output_type": "execute_result"
    }
   ],
   "source": [
    "ttest_ind(promotedyes.avg_training_score,promotedno.avg_training_score,equal_var=False)"
   ]
  },
  {
   "cell_type": "code",
   "execution_count": 744,
   "id": "4241ec62",
   "metadata": {},
   "outputs": [],
   "source": [
    "#since p-value < 0.05 , reject null"
   ]
  },
  {
   "cell_type": "code",
   "execution_count": 745,
   "id": "3792dd3a",
   "metadata": {},
   "outputs": [],
   "source": [
    "# test null the average length_of_service of is_promoted 0 & 1 equal?"
   ]
  },
  {
   "cell_type": "code",
   "execution_count": 746,
   "id": "74479e82",
   "metadata": {},
   "outputs": [
    {
     "data": {
      "text/plain": [
       "is_promoted\n",
       "0    5.879398\n",
       "1    5.716367\n",
       "Name: length_of_service, dtype: float64"
      ]
     },
     "execution_count": 746,
     "metadata": {},
     "output_type": "execute_result"
    }
   ],
   "source": [
    "hrtraindf.length_of_service.groupby(hrtraindf.is_promoted).mean()"
   ]
  },
  {
   "cell_type": "code",
   "execution_count": 747,
   "id": "40cdb112",
   "metadata": {},
   "outputs": [
    {
     "data": {
      "text/plain": [
       "is_promoted\n",
       "0    18.387278\n",
       "1    16.062239\n",
       "Name: length_of_service, dtype: float64"
      ]
     },
     "execution_count": 747,
     "metadata": {},
     "output_type": "execute_result"
    }
   ],
   "source": [
    "hrtraindf.length_of_service.groupby(hrtraindf.is_promoted).var()"
   ]
  },
  {
   "cell_type": "code",
   "execution_count": 748,
   "id": "1f260f07",
   "metadata": {},
   "outputs": [
    {
     "data": {
      "text/plain": [
       "Ttest_indResult(statistic=-2.6420549711884886, pvalue=0.008262946987836755)"
      ]
     },
     "execution_count": 748,
     "metadata": {},
     "output_type": "execute_result"
    }
   ],
   "source": [
    "# Null - There is no significant difference in average length_of_service of is_promoted 0&1\n",
    "# Alt - There is significant difference in average length_of_service of is_promoted 0&1\n",
    "ttest_ind(promotedyes.length_of_service,promotedno.length_of_service,equal_var=False)"
   ]
  },
  {
   "cell_type": "code",
   "execution_count": 749,
   "id": "525b81b8",
   "metadata": {},
   "outputs": [],
   "source": [
    "#since p-value < 0.05 , reject null"
   ]
  },
  {
   "cell_type": "code",
   "execution_count": 750,
   "id": "83cb63e3",
   "metadata": {},
   "outputs": [
    {
     "data": {
      "text/plain": [
       "recruitment_channel\n",
       "0    63.362839\n",
       "1    66.182137\n",
       "2    63.280620\n",
       "Name: avg_training_score, dtype: float64"
      ]
     },
     "execution_count": 750,
     "metadata": {},
     "output_type": "execute_result"
    }
   ],
   "source": [
    "# test null the average the avg_training_score for different recruitment_channel is equal ?\n",
    "hrtraindf.avg_training_score.groupby(hrtraindf.recruitment_channel).mean()"
   ]
  },
  {
   "cell_type": "code",
   "execution_count": 751,
   "id": "68ebd75f",
   "metadata": {},
   "outputs": [],
   "source": [
    "# Null - There is no significant difference in average avg_training_score of recruitment_channel\n",
    "# Alt - There is significant difference in average avg_training_score of recruitment_channel"
   ]
  },
  {
   "cell_type": "code",
   "execution_count": 752,
   "id": "22cfa702",
   "metadata": {},
   "outputs": [],
   "source": [
    "other=hrtraindf[hrtraindf.recruitment_channel==0]\n",
    "refer=hrtraindf[hrtraindf.recruitment_channel==1]\n",
    "source=hrtraindf[hrtraindf.recruitment_channel==2]"
   ]
  },
  {
   "cell_type": "code",
   "execution_count": 753,
   "id": "90e01c55",
   "metadata": {},
   "outputs": [],
   "source": [
    "from scipy.stats import f_oneway"
   ]
  },
  {
   "cell_type": "code",
   "execution_count": 754,
   "id": "2c7d5a8f",
   "metadata": {},
   "outputs": [
    {
     "data": {
      "text/plain": [
       "F_onewayResult(statistic=25.758203095600134, pvalue=6.585805990029605e-12)"
      ]
     },
     "execution_count": 754,
     "metadata": {},
     "output_type": "execute_result"
    }
   ],
   "source": [
    "f_oneway(other.avg_training_score,refer.avg_training_score,source.avg_training_score)"
   ]
  },
  {
   "cell_type": "code",
   "execution_count": 755,
   "id": "025a6fca",
   "metadata": {},
   "outputs": [],
   "source": [
    "#since p-value < 0.05 , reject null"
   ]
  },
  {
   "cell_type": "code",
   "execution_count": 756,
   "id": "f93c163e",
   "metadata": {},
   "outputs": [],
   "source": [
    "# # test null the average length_of_service of different recruitment channels is equal?"
   ]
  },
  {
   "cell_type": "code",
   "execution_count": 757,
   "id": "610e1c47",
   "metadata": {},
   "outputs": [
    {
     "data": {
      "text/plain": [
       "recruitment_channel\n",
       "0    5.892991\n",
       "1    4.979860\n",
       "2    5.873040\n",
       "Name: length_of_service, dtype: float64"
      ]
     },
     "execution_count": 757,
     "metadata": {},
     "output_type": "execute_result"
    }
   ],
   "source": [
    "hrtraindf.length_of_service.groupby(hrtraindf.recruitment_channel).mean()"
   ]
  },
  {
   "cell_type": "code",
   "execution_count": 758,
   "id": "ac2db2ca",
   "metadata": {},
   "outputs": [
    {
     "data": {
      "text/plain": [
       "F_onewayResult(statistic=25.31146884827052, pvalue=1.0290643395315436e-11)"
      ]
     },
     "execution_count": 758,
     "metadata": {},
     "output_type": "execute_result"
    }
   ],
   "source": [
    "# Null - There is no significant difference in average length_of_service of recruitment_channel\n",
    "# Alt - There is significant difference in average length_of_service of recruitment_channel\n",
    "f_oneway(other.length_of_service,refer.length_of_service,source.length_of_service)"
   ]
  },
  {
   "cell_type": "code",
   "execution_count": 759,
   "id": "f4ea4dbb",
   "metadata": {},
   "outputs": [],
   "source": [
    "#since p-value < 0.05 , reject null"
   ]
  },
  {
   "cell_type": "code",
   "execution_count": 760,
   "id": "5be37fc8",
   "metadata": {},
   "outputs": [
    {
     "data": {
      "text/html": [
       "<div>\n",
       "<style scoped>\n",
       "    .dataframe tbody tr th:only-of-type {\n",
       "        vertical-align: middle;\n",
       "    }\n",
       "\n",
       "    .dataframe tbody tr th {\n",
       "        vertical-align: top;\n",
       "    }\n",
       "\n",
       "    .dataframe thead th {\n",
       "        text-align: right;\n",
       "    }\n",
       "</style>\n",
       "<table border=\"1\" class=\"dataframe\">\n",
       "  <thead>\n",
       "    <tr style=\"text-align: right;\">\n",
       "      <th>is_promoted</th>\n",
       "      <th>0</th>\n",
       "      <th>1</th>\n",
       "    </tr>\n",
       "    <tr>\n",
       "      <th>gender</th>\n",
       "      <th></th>\n",
       "      <th></th>\n",
       "    </tr>\n",
       "  </thead>\n",
       "  <tbody>\n",
       "    <tr>\n",
       "      <th>0</th>\n",
       "      <td>14845</td>\n",
       "      <td>1467</td>\n",
       "    </tr>\n",
       "    <tr>\n",
       "      <th>1</th>\n",
       "      <td>35295</td>\n",
       "      <td>3201</td>\n",
       "    </tr>\n",
       "  </tbody>\n",
       "</table>\n",
       "</div>"
      ],
      "text/plain": [
       "is_promoted      0     1\n",
       "gender                  \n",
       "0            14845  1467\n",
       "1            35295  3201"
      ]
     },
     "execution_count": 760,
     "metadata": {},
     "output_type": "execute_result"
    }
   ],
   "source": [
    "# test null no association between gender and is_promoted?\n",
    "pd.crosstab(hrtraindf.gender,hrtraindf.is_promoted)"
   ]
  },
  {
   "cell_type": "code",
   "execution_count": 761,
   "id": "5eaae625",
   "metadata": {},
   "outputs": [],
   "source": [
    "#Null- There is no association between both variables\n",
    "#Alt - There is association between both variables"
   ]
  },
  {
   "cell_type": "code",
   "execution_count": 762,
   "id": "8f5bd71c",
   "metadata": {},
   "outputs": [],
   "source": [
    "from scipy.stats import chi2_contingency"
   ]
  },
  {
   "cell_type": "code",
   "execution_count": 763,
   "id": "66317608",
   "metadata": {},
   "outputs": [
    {
     "data": {
      "text/plain": [
       "(6.677254566546107,\n",
       " 0.009765091521176657,\n",
       " 1,\n",
       " array([[14922.70617428,  1389.29382572],\n",
       "        [35217.29382572,  3278.70617428]]))"
      ]
     },
     "execution_count": 763,
     "metadata": {},
     "output_type": "execute_result"
    }
   ],
   "source": [
    "chi2_contingency(pd.crosstab(hrtraindf.gender,hrtraindf.is_promoted))"
   ]
  },
  {
   "cell_type": "code",
   "execution_count": 764,
   "id": "ccc7c8f2",
   "metadata": {},
   "outputs": [],
   "source": [
    "# since p value < 0.05 reject null"
   ]
  },
  {
   "cell_type": "code",
   "execution_count": 765,
   "id": "b086a873",
   "metadata": {},
   "outputs": [
    {
     "data": {
      "text/plain": [
       "Index(['employee_id', 'no_of_trainings', 'age', 'length_of_service',\n",
       "       'avg_training_score', 'is_promoted', 'department', 'region',\n",
       "       'education', 'gender', 'recruitment_channel', 'previous_year_rating',\n",
       "       'KPIs_met >80%', 'awards_won?'],\n",
       "      dtype='object')"
      ]
     },
     "execution_count": 765,
     "metadata": {},
     "output_type": "execute_result"
    }
   ],
   "source": [
    "hrtraindf.columns"
   ]
  },
  {
   "cell_type": "code",
   "execution_count": 766,
   "id": "b0694fe3",
   "metadata": {},
   "outputs": [],
   "source": [
    "y=hrtraindf.is_promoted\n",
    "X=hrtraindf.drop(['employee_id','is_promoted'],axis=1)"
   ]
  },
  {
   "cell_type": "code",
   "execution_count": 767,
   "id": "70401d1c",
   "metadata": {},
   "outputs": [],
   "source": [
    "y=le.fit_transform(y)   # label encode dependent variable"
   ]
  },
  {
   "cell_type": "code",
   "execution_count": 768,
   "id": "23a10753",
   "metadata": {},
   "outputs": [],
   "source": [
    "from sklearn.linear_model import LogisticRegression"
   ]
  },
  {
   "cell_type": "code",
   "execution_count": 769,
   "id": "b2089f6a",
   "metadata": {},
   "outputs": [],
   "source": [
    "logit=LogisticRegression(max_iter=2000)"
   ]
  },
  {
   "cell_type": "code",
   "execution_count": 770,
   "id": "a0d4c36c",
   "metadata": {},
   "outputs": [],
   "source": [
    "logitmodel=logit.fit(X,y)"
   ]
  },
  {
   "cell_type": "code",
   "execution_count": 771,
   "id": "a08f64c7",
   "metadata": {},
   "outputs": [
    {
     "data": {
      "text/plain": [
       "0.9172566048752007"
      ]
     },
     "execution_count": 771,
     "metadata": {},
     "output_type": "execute_result"
    }
   ],
   "source": [
    "logitmodel.score(X,y)    # accuracy from confusion matrix"
   ]
  },
  {
   "cell_type": "code",
   "execution_count": 772,
   "id": "81233b16",
   "metadata": {},
   "outputs": [],
   "source": [
    "logitpredict=logitmodel.predict(X)"
   ]
  },
  {
   "cell_type": "code",
   "execution_count": 773,
   "id": "e895c410",
   "metadata": {},
   "outputs": [
    {
     "data": {
      "text/html": [
       "<div>\n",
       "<style scoped>\n",
       "    .dataframe tbody tr th:only-of-type {\n",
       "        vertical-align: middle;\n",
       "    }\n",
       "\n",
       "    .dataframe tbody tr th {\n",
       "        vertical-align: top;\n",
       "    }\n",
       "\n",
       "    .dataframe thead th {\n",
       "        text-align: right;\n",
       "    }\n",
       "</style>\n",
       "<table border=\"1\" class=\"dataframe\">\n",
       "  <thead>\n",
       "    <tr style=\"text-align: right;\">\n",
       "      <th>col_0</th>\n",
       "      <th>0</th>\n",
       "      <th>1</th>\n",
       "    </tr>\n",
       "    <tr>\n",
       "      <th>row_0</th>\n",
       "      <th></th>\n",
       "      <th></th>\n",
       "    </tr>\n",
       "  </thead>\n",
       "  <tbody>\n",
       "    <tr>\n",
       "      <th>0</th>\n",
       "      <td>49947</td>\n",
       "      <td>193</td>\n",
       "    </tr>\n",
       "    <tr>\n",
       "      <th>1</th>\n",
       "      <td>4342</td>\n",
       "      <td>326</td>\n",
       "    </tr>\n",
       "  </tbody>\n",
       "</table>\n",
       "</div>"
      ],
      "text/plain": [
       "col_0      0    1\n",
       "row_0            \n",
       "0      49947  193\n",
       "1       4342  326"
      ]
     },
     "execution_count": 773,
     "metadata": {},
     "output_type": "execute_result"
    }
   ],
   "source": [
    "pd.crosstab(y,logitpredict)"
   ]
  },
  {
   "cell_type": "code",
   "execution_count": 774,
   "id": "c24fa67d",
   "metadata": {},
   "outputs": [
    {
     "data": {
      "text/plain": [
       "0.9172566048752007"
      ]
     },
     "execution_count": 774,
     "metadata": {},
     "output_type": "execute_result"
    }
   ],
   "source": [
    "(49947+326)/(49947+326+193+4342)   # accuracy"
   ]
  },
  {
   "cell_type": "code",
   "execution_count": 775,
   "id": "cd5658a4",
   "metadata": {},
   "outputs": [],
   "source": [
    "from sklearn.metrics import classification_report"
   ]
  },
  {
   "cell_type": "code",
   "execution_count": 776,
   "id": "d302adc2",
   "metadata": {},
   "outputs": [
    {
     "name": "stdout",
     "output_type": "stream",
     "text": [
      "              precision    recall  f1-score   support\n",
      "\n",
      "           0       0.92      1.00      0.96     50140\n",
      "           1       0.63      0.07      0.13      4668\n",
      "\n",
      "    accuracy                           0.92     54808\n",
      "   macro avg       0.77      0.53      0.54     54808\n",
      "weighted avg       0.90      0.92      0.89     54808\n",
      "\n"
     ]
    }
   ],
   "source": [
    "print(classification_report(y,logitpredict))"
   ]
  },
  {
   "cell_type": "code",
   "execution_count": 777,
   "id": "eaa846a0",
   "metadata": {},
   "outputs": [],
   "source": [
    "from sklearn.tree import DecisionTreeClassifier"
   ]
  },
  {
   "cell_type": "code",
   "execution_count": 778,
   "id": "c934a3a3",
   "metadata": {},
   "outputs": [],
   "source": [
    "tree=DecisionTreeClassifier(max_depth=8)"
   ]
  },
  {
   "cell_type": "code",
   "execution_count": 779,
   "id": "0621897d",
   "metadata": {},
   "outputs": [],
   "source": [
    "treemodel=tree.fit(X,y)"
   ]
  },
  {
   "cell_type": "code",
   "execution_count": 780,
   "id": "77066fd8",
   "metadata": {},
   "outputs": [
    {
     "data": {
      "text/plain": [
       "0.9350824697124508"
      ]
     },
     "execution_count": 780,
     "metadata": {},
     "output_type": "execute_result"
    }
   ],
   "source": [
    "treemodel.score(X,y)    "
   ]
  },
  {
   "cell_type": "code",
   "execution_count": 781,
   "id": "f12cf827",
   "metadata": {},
   "outputs": [],
   "source": [
    "from sklearn.model_selection import cross_val_score"
   ]
  },
  {
   "cell_type": "code",
   "execution_count": 782,
   "id": "55eeb07d",
   "metadata": {},
   "outputs": [
    {
     "data": {
      "text/plain": [
       "array([0.93340631, 0.93121693, 0.93167305, 0.9338564 , 0.93203175])"
      ]
     },
     "execution_count": 782,
     "metadata": {},
     "output_type": "execute_result"
    }
   ],
   "source": [
    "cross_val_score(tree,X,y,cv=5)  # cross validation - repeated testing of model with same data "
   ]
  },
  {
   "cell_type": "code",
   "execution_count": 783,
   "id": "9fb7099d",
   "metadata": {},
   "outputs": [],
   "source": [
    "from sklearn.tree import export_graphviz,plot_tree"
   ]
  },
  {
   "cell_type": "code",
   "execution_count": 784,
   "id": "0b1cc1be",
   "metadata": {},
   "outputs": [
    {
     "data": {
      "text/plain": [
       "[Text(0.5, 0.875, 'avg_training_score <= 90.5\\ngini = 0.156\\nsamples = 54808\\nvalue = [50140, 4668]'),\n",
       " Text(0.25, 0.625, 'KPIs_met >80% <= 0.5\\ngini = 0.142\\nsamples = 54229\\nvalue = [50069, 4160]'),\n",
       " Text(0.125, 0.375, 'awards_won? <= 0.5\\ngini = 0.067\\nsamples = 35295\\nvalue = [34064, 1231]'),\n",
       " Text(0.0625, 0.125, '\\n  (...)  \\n'),\n",
       " Text(0.1875, 0.125, '\\n  (...)  \\n'),\n",
       " Text(0.375, 0.375, 'avg_training_score <= 88.5\\ngini = 0.262\\nsamples = 18934\\nvalue = [16005, 2929]'),\n",
       " Text(0.3125, 0.125, '\\n  (...)  \\n'),\n",
       " Text(0.4375, 0.125, '\\n  (...)  \\n'),\n",
       " Text(0.75, 0.625, 'department <= 0.5\\ngini = 0.215\\nsamples = 579\\nvalue = [71, 508]'),\n",
       " Text(0.625, 0.375, 'avg_training_score <= 93.5\\ngini = 0.499\\nsamples = 116\\nvalue = [56, 60]'),\n",
       " Text(0.5625, 0.125, '\\n  (...)  \\n'),\n",
       " Text(0.6875, 0.125, '\\n  (...)  \\n'),\n",
       " Text(0.875, 0.375, 'avg_training_score <= 92.5\\ngini = 0.063\\nsamples = 463\\nvalue = [15, 448]'),\n",
       " Text(0.8125, 0.125, '\\n  (...)  \\n'),\n",
       " Text(0.9375, 0.125, '\\n  (...)  \\n')]"
      ]
     },
     "execution_count": 784,
     "metadata": {},
     "output_type": "execute_result"
    },
    {
     "data": {
      "image/png": "[encoded data removed]",
      "text/plain": [
       "<Figure size 1800x1800 with 1 Axes>"
      ]
     },
     "metadata": {
      "needs_background": "light"
     },
     "output_type": "display_data"
    }
   ],
   "source": [
    "plt.figure(figsize=(25,25))\n",
    "plot_tree(treemodel,max_depth=2,filled=True,feature_names=X.columns)"
   ]
  },
  {
   "cell_type": "code",
   "execution_count": 785,
   "id": "65017ae2",
   "metadata": {},
   "outputs": [
    {
     "data": {
      "text/html": [
       "<div>\n",
       "<style scoped>\n",
       "    .dataframe tbody tr th:only-of-type {\n",
       "        vertical-align: middle;\n",
       "    }\n",
       "\n",
       "    .dataframe tbody tr th {\n",
       "        vertical-align: top;\n",
       "    }\n",
       "\n",
       "    .dataframe thead th {\n",
       "        text-align: right;\n",
       "    }\n",
       "</style>\n",
       "<table border=\"1\" class=\"dataframe\">\n",
       "  <thead>\n",
       "    <tr style=\"text-align: right;\">\n",
       "      <th></th>\n",
       "      <th>0</th>\n",
       "    </tr>\n",
       "  </thead>\n",
       "  <tbody>\n",
       "    <tr>\n",
       "      <th>0.435000</th>\n",
       "      <td>avg_training_score</td>\n",
       "    </tr>\n",
       "    <tr>\n",
       "      <th>0.266449</th>\n",
       "      <td>department</td>\n",
       "    </tr>\n",
       "    <tr>\n",
       "      <th>0.135236</th>\n",
       "      <td>KPIs_met &gt;80%</td>\n",
       "    </tr>\n",
       "    <tr>\n",
       "      <th>0.071425</th>\n",
       "      <td>awards_won?</td>\n",
       "    </tr>\n",
       "    <tr>\n",
       "      <th>0.047434</th>\n",
       "      <td>previous_year_rating</td>\n",
       "    </tr>\n",
       "    <tr>\n",
       "      <th>0.012429</th>\n",
       "      <td>age</td>\n",
       "    </tr>\n",
       "    <tr>\n",
       "      <th>0.011774</th>\n",
       "      <td>length_of_service</td>\n",
       "    </tr>\n",
       "    <tr>\n",
       "      <th>0.009592</th>\n",
       "      <td>region</td>\n",
       "    </tr>\n",
       "    <tr>\n",
       "      <th>0.005821</th>\n",
       "      <td>no_of_trainings</td>\n",
       "    </tr>\n",
       "    <tr>\n",
       "      <th>0.002322</th>\n",
       "      <td>gender</td>\n",
       "    </tr>\n",
       "    <tr>\n",
       "      <th>0.001519</th>\n",
       "      <td>recruitment_channel</td>\n",
       "    </tr>\n",
       "    <tr>\n",
       "      <th>0.000999</th>\n",
       "      <td>education</td>\n",
       "    </tr>\n",
       "  </tbody>\n",
       "</table>\n",
       "</div>"
      ],
      "text/plain": [
       "                             0\n",
       "0.435000    avg_training_score\n",
       "0.266449            department\n",
       "0.135236         KPIs_met >80%\n",
       "0.071425           awards_won?\n",
       "0.047434  previous_year_rating\n",
       "0.012429                   age\n",
       "0.011774     length_of_service\n",
       "0.009592                region\n",
       "0.005821       no_of_trainings\n",
       "0.002322                gender\n",
       "0.001519   recruitment_channel\n",
       "0.000999             education"
      ]
     },
     "execution_count": 785,
     "metadata": {},
     "output_type": "execute_result"
    }
   ],
   "source": [
    "pd.DataFrame(X.columns,treemodel.feature_importances_).sort_index(ascending=False)"
   ]
  },
  {
   "cell_type": "code",
   "execution_count": 786,
   "id": "2ce5ce1e",
   "metadata": {},
   "outputs": [],
   "source": [
    "from sklearn.ensemble import RandomForestClassifier  "
   ]
  },
  {
   "cell_type": "code",
   "execution_count": 787,
   "id": "ef54fb59",
   "metadata": {},
   "outputs": [],
   "source": [
    "RF=RandomForestClassifier(n_estimators=1000)  "
   ]
  },
  {
   "cell_type": "code",
   "execution_count": 788,
   "id": "254eed3f",
   "metadata": {},
   "outputs": [],
   "source": [
    "RFmodel=RF.fit(X,y)"
   ]
  },
  {
   "cell_type": "code",
   "execution_count": 789,
   "id": "2b87814b",
   "metadata": {},
   "outputs": [
    {
     "data": {
      "text/plain": [
       "0.999744562837542"
      ]
     },
     "execution_count": 789,
     "metadata": {},
     "output_type": "execute_result"
    }
   ],
   "source": [
    "RFmodel.score(X,y)"
   ]
  },
  {
   "cell_type": "code",
   "execution_count": 790,
   "id": "fad9a4cc",
   "metadata": {},
   "outputs": [
    {
     "data": {
      "text/plain": [
       "array([0.93650794, 0.93304142, 0.93395366, 0.93540735, 0.933309  ])"
      ]
     },
     "execution_count": 790,
     "metadata": {},
     "output_type": "execute_result"
    }
   ],
   "source": [
    "cross_val_score(RF,X,y)"
   ]
  },
  {
   "cell_type": "code",
   "execution_count": 791,
   "id": "d193ac28",
   "metadata": {},
   "outputs": [],
   "source": [
    "from sklearn.tree import _tree\n",
    "def get_rules(tree, feature_names, class_names):\n",
    "    tree_ = tree.tree_\n",
    "    feature_name = [\n",
    "        feature_names[i] if i != _tree.TREE_UNDEFINED else \"undefined!\"\n",
    "        for i in tree_.feature\n",
    "    ]\n",
    "\n",
    "    paths = []\n",
    "    path = []\n",
    "   \n",
    "    def recurse(node, path, paths):\n",
    "       \n",
    "        if tree_.feature[node] != _tree.TREE_UNDEFINED:\n",
    "            name = feature_name[node]\n",
    "            threshold = tree_.threshold[node]\n",
    "            p1, p2 = list(path), list(path)\n",
    "            p1 += [f\"({name} <= {np.round(threshold, 3)})\"]\n",
    "            recurse(tree_.children_left[node], p1, paths)\n",
    "            p2 += [f\"({name} > {np.round(threshold, 3)})\"]\n",
    "            recurse(tree_.children_right[node], p2, paths)\n",
    "        else:\n",
    "            path += [(tree_.value[node], tree_.n_node_samples[node])]\n",
    "            paths += [path]\n",
    "           \n",
    "    recurse(0, path, paths)\n",
    "\n",
    "    # sort by samples count\n",
    "    samples_count = [p[-1][1] for p in paths]\n",
    "    ii = list(np.argsort(samples_count))\n",
    "    paths = [paths[i] for i in reversed(ii)]\n",
    "   \n",
    "    rules = []\n",
    "    for path in paths:\n",
    "        rule = \"if \"\n",
    "       \n",
    "        for p in path[:-1]:\n",
    "            if rule != \"if \":\n",
    "                rule += \" and \"\n",
    "            rule += str(p)\n",
    "        rule += \" then \"\n",
    "        if class_names is None:\n",
    "            rule += \"response: \"+str(np.round(path[-1][0][0][0],3))\n",
    "        else:\n",
    "            classes = path[-1][0][0]\n",
    "            l = np.argmax(classes)\n",
    "            rule += f\"class: {class_names[l]} (proba: {np.round(100.0*classes[l]/np.sum(classes),2)}%)\"\n",
    "        rule += f\" | based on {path[-1][1]:,} samples\"\n",
    "        rules += [rule]\n",
    "       \n",
    "    return rules\n"
   ]
  },
  {
   "cell_type": "code",
   "execution_count": 792,
   "id": "976bea6e",
   "metadata": {},
   "outputs": [
    {
     "name": "stdout",
     "output_type": "stream",
     "text": [
      "if (avg_training_score <= 90.5) and (KPIs_met >80% <= 0.5) and (awards_won? <= 0.5) and (previous_year_rating <= 3.5) and (avg_training_score <= 59.5) and (avg_training_score <= 57.5) and (avg_training_score <= 54.5) then class: 0 (proba: 100.0%) | based on 11,658 samples\n",
      "if (avg_training_score <= 90.5) and (KPIs_met >80% <= 0.5) and (awards_won? <= 0.5) and (previous_year_rating <= 3.5) and (avg_training_score > 59.5) and (avg_training_score <= 87.5) and (department <= 7.5) and (department <= 6.5) then class: 0 (proba: 97.1%) | based on 10,629 samples\n",
      "if (avg_training_score <= 90.5) and (KPIs_met >80% > 0.5) and (avg_training_score <= 88.5) and (awards_won? <= 0.5) and (department > 4.5) and (length_of_service <= 7.5) and (previous_year_rating > 1.5) and (age <= 40.5) then class: 0 (proba: 82.7%) | based on 5,799 samples\n",
      "if (avg_training_score <= 90.5) and (KPIs_met >80% > 0.5) and (avg_training_score <= 88.5) and (awards_won? <= 0.5) and (department <= 4.5) and (region <= 12.5) and (no_of_trainings <= 4.5) and (previous_year_rating > 2.5) then class: 0 (proba: 91.14%) | based on 2,360 samples\n",
      "if (avg_training_score <= 90.5) and (KPIs_met >80% > 0.5) and (avg_training_score <= 88.5) and (awards_won? <= 0.5) and (department <= 4.5) and (region > 12.5) and (region > 17.5) and (length_of_service <= 6.5) then class: 0 (proba: 89.07%) | based on 2,242 samples\n",
      "if (avg_training_score <= 90.5) and (KPIs_met >80% <= 0.5) and (awards_won? <= 0.5) and (previous_year_rating <= 3.5) and (avg_training_score > 59.5) and (avg_training_score <= 87.5) and (department > 7.5) and (avg_training_score > 79.5) then class: 0 (proba: 97.54%) | based on 2,192 samples\n",
      "if (avg_training_score <= 90.5) and (KPIs_met >80% <= 0.5) and (awards_won? <= 0.5) and (previous_year_rating <= 3.5) and (avg_training_score > 59.5) and (avg_training_score <= 87.5) and (department > 7.5) and (avg_training_score <= 79.5) then class: 0 (proba: 100.0%) | based on 2,152 samples\n",
      "if (avg_training_score <= 90.5) and (KPIs_met >80% > 0.5) and (avg_training_score <= 88.5) and (awards_won? <= 0.5) and (department <= 4.5) and (region > 12.5) and (region <= 17.5) and (age > 25.5) then class: 0 (proba: 82.78%) | based on 1,806 samples\n",
      "if (avg_training_score <= 90.5) and (KPIs_met >80% <= 0.5) and (awards_won? <= 0.5) and (previous_year_rating > 3.5) and (avg_training_score <= 63.5) and (avg_training_score <= 60.5) and (avg_training_score <= 55.5) and (avg_training_score <= 53.5) then class: 0 (proba: 100.0%) | based on 1,575 samples\n",
      "if (avg_training_score <= 90.5) and (KPIs_met >80% <= 0.5) and (awards_won? <= 0.5) and (previous_year_rating <= 3.5) and (avg_training_score <= 59.5) and (avg_training_score > 57.5) and (department <= 5.5) and (department > 2.5) then class: 0 (proba: 100.0%) | based on 1,533 samples\n",
      "if (avg_training_score <= 90.5) and (KPIs_met >80% <= 0.5) and (awards_won? <= 0.5) and (previous_year_rating <= 3.5) and (avg_training_score <= 59.5) and (avg_training_score <= 57.5) and (avg_training_score > 54.5) and (department <= 5.5) then class: 0 (proba: 99.86%) | based on 1,414 samples\n",
      "if (avg_training_score <= 90.5) and (KPIs_met >80% > 0.5) and (avg_training_score <= 88.5) and (awards_won? <= 0.5) and (department <= 4.5) and (region <= 12.5) and (no_of_trainings <= 4.5) and (previous_year_rating <= 2.5) then class: 0 (proba: 88.11%) | based on 1,295 samples\n",
      "if (avg_training_score <= 90.5) and (KPIs_met >80% > 0.5) and (avg_training_score <= 88.5) and (awards_won? <= 0.5) and (department > 4.5) and (length_of_service > 7.5) and (previous_year_rating > 2.5) and (age > 35.5) then class: 0 (proba: 81.74%) | based on 1,024 samples\n",
      "if (avg_training_score <= 90.5) and (KPIs_met >80% > 0.5) and (avg_training_score <= 88.5) and (awards_won? <= 0.5) and (department <= 4.5) and (region > 12.5) and (region > 17.5) and (length_of_service > 6.5) then class: 0 (proba: 85.27%) | based on 862 samples\n",
      "if (avg_training_score <= 90.5) and (KPIs_met >80% > 0.5) and (avg_training_score <= 88.5) and (awards_won? <= 0.5) and (department > 4.5) and (length_of_service <= 7.5) and (previous_year_rating <= 1.5) and (avg_training_score <= 87.5) then class: 0 (proba: 93.17%) | based on 849 samples\n",
      "if (avg_training_score <= 90.5) and (KPIs_met >80% > 0.5) and (avg_training_score <= 88.5) and (awards_won? <= 0.5) and (department > 4.5) and (length_of_service <= 7.5) and (previous_year_rating > 1.5) and (age > 40.5) then class: 0 (proba: 88.25%) | based on 817 samples\n",
      "if (avg_training_score <= 90.5) and (KPIs_met >80% <= 0.5) and (awards_won? <= 0.5) and (previous_year_rating > 3.5) and (avg_training_score <= 63.5) and (avg_training_score <= 60.5) and (avg_training_score > 55.5) and (department <= 5.5) then class: 0 (proba: 99.24%) | based on 658 samples\n",
      "if (avg_training_score <= 90.5) and (KPIs_met >80% > 0.5) and (avg_training_score <= 88.5) and (awards_won? > 0.5) and (previous_year_rating > 1.5) and (avg_training_score <= 83.5) and (age <= 51.5) and (avg_training_score > 48.5) then class: 0 (proba: 70.26%) | based on 464 samples\n",
      "if (avg_training_score <= 90.5) and (KPIs_met >80% > 0.5) and (avg_training_score <= 88.5) and (awards_won? <= 0.5) and (department > 4.5) and (length_of_service > 7.5) and (previous_year_rating <= 2.5) and (age <= 52.5) then class: 0 (proba: 67.47%) | based on 458 samples\n",
      "if (avg_training_score <= 90.5) and (KPIs_met >80% <= 0.5) and (awards_won? <= 0.5) and (previous_year_rating <= 3.5) and (avg_training_score <= 59.5) and (avg_training_score > 57.5) and (department <= 5.5) and (department <= 2.5) then class: 0 (proba: 99.71%) | based on 349 samples\n",
      "if (avg_training_score <= 90.5) and (KPIs_met >80% <= 0.5) and (awards_won? <= 0.5) and (previous_year_rating <= 3.5) and (avg_training_score > 59.5) and (avg_training_score > 87.5) and (department <= 6.5) and (gender > 0.5) then class: 0 (proba: 96.53%) | based on 346 samples\n",
      "if (avg_training_score <= 90.5) and (KPIs_met >80% > 0.5) and (avg_training_score <= 88.5) and (awards_won? <= 0.5) and (department > 4.5) and (length_of_service > 7.5) and (previous_year_rating > 2.5) and (age <= 35.5) then class: 0 (proba: 75.59%) | based on 340 samples\n",
      "if (avg_training_score <= 90.5) and (KPIs_met >80% <= 0.5) and (awards_won? <= 0.5) and (previous_year_rating <= 3.5) and (avg_training_score <= 59.5) and (avg_training_score <= 57.5) and (avg_training_score > 54.5) and (department > 5.5) then class: 0 (proba: 98.06%) | based on 310 samples\n",
      "if (avg_training_score <= 90.5) and (KPIs_met >80% <= 0.5) and (awards_won? <= 0.5) and (previous_year_rating > 3.5) and (avg_training_score > 63.5) and (department > 0.5) and (department > 4.5) and (avg_training_score <= 79.5) then class: 0 (proba: 87.21%) | based on 297 samples\n",
      "if (avg_training_score <= 90.5) and (KPIs_met >80% <= 0.5) and (awards_won? <= 0.5) and (previous_year_rating > 3.5) and (avg_training_score > 63.5) and (department <= 0.5) and (age > 30.5) and (age <= 58.5) then class: 0 (proba: 93.38%) | based on 287 samples\n",
      "if (avg_training_score <= 90.5) and (KPIs_met >80% <= 0.5) and (awards_won? <= 0.5) and (previous_year_rating > 3.5) and (avg_training_score <= 63.5) and (avg_training_score > 60.5) and (department <= 6.0) and (department > 2.5) then class: 0 (proba: 100.0%) | based on 264 samples\n",
      "if (avg_training_score > 90.5) and (department > 0.5) and (avg_training_score > 92.5) and (region <= 27.5) then class: 0 (proba: 100.0%) | based on 256 samples\n",
      "if (avg_training_score <= 90.5) and (KPIs_met >80% <= 0.5) and (awards_won? <= 0.5) and (previous_year_rating > 3.5) and (avg_training_score > 63.5) and (department > 0.5) and (department > 4.5) and (avg_training_score > 79.5) then class: 0 (proba: 50.0%) | based on 246 samples\n",
      "if (avg_training_score <= 90.5) and (KPIs_met >80% <= 0.5) and (awards_won? <= 0.5) and (previous_year_rating > 3.5) and (avg_training_score <= 63.5) and (avg_training_score <= 60.5) and (avg_training_score <= 55.5) and (avg_training_score > 53.5) then class: 0 (proba: 98.84%) | based on 173 samples\n",
      "if (avg_training_score <= 90.5) and (KPIs_met >80% <= 0.5) and (awards_won? <= 0.5) and (previous_year_rating <= 3.5) and (avg_training_score > 59.5) and (avg_training_score <= 87.5) and (department <= 7.5) and (department > 6.5) then class: 0 (proba: 98.69%) | based on 153 samples\n",
      "if (avg_training_score <= 90.5) and (KPIs_met >80% <= 0.5) and (awards_won? <= 0.5) and (previous_year_rating > 3.5) and (avg_training_score > 63.5) and (department > 0.5) and (department <= 4.5) and (avg_training_score > 67.5) then class: 0 (proba: 99.33%) | based on 150 samples\n",
      "if (avg_training_score <= 90.5) and (KPIs_met >80% <= 0.5) and (awards_won? <= 0.5) and (previous_year_rating > 3.5) and (avg_training_score > 63.5) and (department <= 0.5) and (age <= 30.5) and (length_of_service > 2.5) then class: 0 (proba: 79.05%) | based on 148 samples\n",
      "if (avg_training_score <= 90.5) and (KPIs_met >80% > 0.5) and (avg_training_score > 88.5) and (department <= 0.5) and (length_of_service <= 14.5) and (no_of_trainings <= 2.5) and (region > 1.5) and (gender > 0.5) then class: 0 (proba: 86.0%) | based on 100 samples\n",
      "if (avg_training_score <= 90.5) and (KPIs_met >80% > 0.5) and (avg_training_score <= 88.5) and (awards_won? <= 0.5) and (department <= 4.5) and (region > 12.5) and (region <= 17.5) and (age <= 25.5) then class: 0 (proba: 95.92%) | based on 98 samples\n",
      "if (avg_training_score <= 90.5) and (KPIs_met >80% <= 0.5) and (awards_won? > 0.5) and (avg_training_score <= 58.5) and (avg_training_score <= 57.5) and (avg_training_score <= 55.5) then class: 0 (proba: 100.0%) | based on 95 samples\n",
      "if (avg_training_score <= 90.5) and (KPIs_met >80% <= 0.5) and (awards_won? <= 0.5) and (previous_year_rating > 3.5) and (avg_training_score > 63.5) and (department > 0.5) and (department <= 4.5) and (avg_training_score <= 67.5) then class: 0 (proba: 85.71%) | based on 84 samples\n",
      "if (avg_training_score > 90.5) and (department > 0.5) and (avg_training_score <= 92.5) and (department > 6.5) then class: 0 (proba: 100.0%) | based on 79 samples\n",
      "if (avg_training_score <= 90.5) and (KPIs_met >80% <= 0.5) and (awards_won? > 0.5) and (avg_training_score > 58.5) and (previous_year_rating > 3.5) and (avg_training_score > 62.5) and (age <= 49.5) and (region > 5.0) then class: 0 (proba: 100.0%) | based on 68 samples\n",
      "if (avg_training_score <= 90.5) and (KPIs_met >80% > 0.5) and (avg_training_score <= 88.5) and (awards_won? <= 0.5) and (department > 4.5) and (length_of_service > 7.5) and (previous_year_rating <= 2.5) and (age > 52.5) then class: 0 (proba: 86.15%) | based on 65 samples\n",
      "if (avg_training_score <= 90.5) and (KPIs_met >80% > 0.5) and (avg_training_score <= 88.5) and (awards_won? > 0.5) and (previous_year_rating > 1.5) and (avg_training_score <= 83.5) and (age <= 51.5) and (avg_training_score <= 48.5) then class: 0 (proba: 81.97%) | based on 61 samples\n",
      "if (avg_training_score <= 90.5) and (KPIs_met >80% <= 0.5) and (awards_won? > 0.5) and (avg_training_score > 58.5) and (previous_year_rating <= 3.5) and (recruitment_channel > 1.5) and (length_of_service <= 8.5) and (previous_year_rating > 1.5) then class: 0 (proba: 80.0%) | based on 55 samples\n",
      "if (avg_training_score <= 90.5) and (KPIs_met >80% > 0.5) and (avg_training_score <= 88.5) and (awards_won? > 0.5) and (previous_year_rating <= 1.5) and (department > 4.5) and (education <= 1.5) then class: 0 (proba: 100.0%) | based on 55 samples\n",
      "if (avg_training_score <= 90.5) and (KPIs_met >80% <= 0.5) and (awards_won? > 0.5) and (avg_training_score > 58.5) and (previous_year_rating <= 3.5) and (recruitment_channel <= 1.5) and (avg_training_score <= 81.5) and (department <= 7.5) then class: 0 (proba: 55.56%) | based on 54 samples\n",
      "if (avg_training_score <= 90.5) and (KPIs_met >80% <= 0.5) and (awards_won? <= 0.5) and (previous_year_rating > 3.5) and (avg_training_score > 63.5) and (department <= 0.5) and (age <= 30.5) and (length_of_service <= 2.5) then class: 0 (proba: 92.59%) | based on 54 samples\n",
      "if (avg_training_score > 90.5) and (department > 0.5) and (avg_training_score <= 92.5) and (department <= 6.5) and (department <= 5.5) then class: 0 (proba: 100.0%) | based on 51 samples\n",
      "if (avg_training_score <= 90.5) and (KPIs_met >80% <= 0.5) and (awards_won? <= 0.5) and (previous_year_rating > 3.5) and (avg_training_score <= 63.5) and (avg_training_score <= 60.5) and (avg_training_score > 55.5) and (department > 5.5) then class: 0 (proba: 51.06%) | based on 47 samples\n",
      "if (avg_training_score <= 90.5) and (KPIs_met >80% <= 0.5) and (awards_won? <= 0.5) and (previous_year_rating > 3.5) and (avg_training_score <= 63.5) and (avg_training_score > 60.5) and (department <= 6.0) and (department <= 2.5) then class: 0 (proba: 88.64%) | based on 44 samples\n",
      "if (avg_training_score > 90.5) and (department > 0.5) and (avg_training_score > 92.5) and (region > 27.5) and (KPIs_met >80% > 0.5) then class: 0 (proba: 100.0%) | based on 43 samples\n",
      "if (avg_training_score <= 90.5) and (KPIs_met >80% <= 0.5) and (awards_won? <= 0.5) and (previous_year_rating > 3.5) and (avg_training_score <= 63.5) and (avg_training_score > 60.5) and (department > 6.0) then class: 0 (proba: 100.0%) | based on 37 samples\n",
      "if (avg_training_score <= 90.5) and (KPIs_met >80% <= 0.5) and (awards_won? <= 0.5) and (previous_year_rating <= 3.5) and (avg_training_score <= 59.5) and (avg_training_score > 57.5) and (department > 5.5) and (no_of_trainings <= 1.5) then class: 0 (proba: 78.79%) | based on 33 samples\n",
      "if (avg_training_score <= 90.5) and (KPIs_met >80% > 0.5) and (avg_training_score > 88.5) and (department > 0.5) and (department > 6.5) then class: 0 (proba: 100.0%) | based on 33 samples\n",
      "if (avg_training_score <= 90.5) and (KPIs_met >80% > 0.5) and (avg_training_score > 88.5) and (department > 0.5) and (department <= 6.5) and (department <= 5.5) then class: 0 (proba: 100.0%) | based on 31 samples\n",
      "if (avg_training_score <= 90.5) and (KPIs_met >80% <= 0.5) and (awards_won? <= 0.5) and (previous_year_rating <= 3.5) and (avg_training_score > 59.5) and (avg_training_score > 87.5) and (department > 6.5) and (age > 27.0) then class: 0 (proba: 90.32%) | based on 31 samples\n",
      "if (avg_training_score <= 90.5) and (KPIs_met >80% <= 0.5) and (awards_won? <= 0.5) and (previous_year_rating <= 3.5) and (avg_training_score > 59.5) and (avg_training_score > 87.5) and (department <= 6.5) and (gender <= 0.5) then class: 0 (proba: 80.65%) | based on 31 samples\n",
      "if (avg_training_score <= 90.5) and (KPIs_met >80% > 0.5) and (avg_training_score <= 88.5) and (awards_won? > 0.5) and (previous_year_rating > 1.5) and (avg_training_score > 83.5) and (department > 0.5) and (no_of_trainings <= 1.5) then class: 0 (proba: 86.96%) | based on 23 samples\n",
      "if (avg_training_score > 90.5) and (department <= 0.5) and (avg_training_score > 93.5) and (avg_training_score > 94.5) then class: 0 (proba: 100.0%) | based on 20 samples\n",
      "if (avg_training_score <= 90.5) and (KPIs_met >80% <= 0.5) and (awards_won? > 0.5) and (avg_training_score > 58.5) and (previous_year_rating <= 3.5) and (recruitment_channel <= 1.5) and (avg_training_score > 81.5) and (region <= 14.5) then class: 0 (proba: 84.21%) | based on 19 samples\n",
      "if (avg_training_score > 90.5) and (department <= 0.5) and (avg_training_score <= 93.5) and (awards_won? <= 0.5) and (KPIs_met >80% <= 0.5) and (previous_year_rating <= 3.5) and (no_of_trainings <= 2.5) and (age <= 30.5) then class: 0 (proba: 84.21%) | based on 19 samples\n",
      "if (avg_training_score > 90.5) and (department <= 0.5) and (avg_training_score <= 93.5) and (awards_won? <= 0.5) and (KPIs_met >80% > 0.5) and (education <= 1.0) and (age > 28.5) and (age <= 33.5) then class: 0 (proba: 77.78%) | based on 18 samples\n",
      "if (avg_training_score <= 90.5) and (KPIs_met >80% <= 0.5) and (awards_won? > 0.5) and (avg_training_score > 58.5) and (previous_year_rating <= 3.5) and (recruitment_channel <= 1.5) and (avg_training_score <= 81.5) and (department > 7.5) then class: 0 (proba: 87.5%) | based on 16 samples\n",
      "if (avg_training_score <= 90.5) and (KPIs_met >80% > 0.5) and (avg_training_score <= 88.5) and (awards_won? > 0.5) and (previous_year_rating > 1.5) and (avg_training_score > 83.5) and (department <= 0.5) and (previous_year_rating > 2.5) then class: 0 (proba: 56.25%) | based on 16 samples\n",
      "if (avg_training_score > 90.5) and (department <= 0.5) and (avg_training_score <= 93.5) and (awards_won? <= 0.5) and (KPIs_met >80% <= 0.5) and (previous_year_rating <= 3.5) and (no_of_trainings <= 2.5) and (age > 30.5) then class: 0 (proba: 100.0%) | based on 16 samples\n",
      "if (avg_training_score <= 90.5) and (KPIs_met >80% > 0.5) and (avg_training_score <= 88.5) and (awards_won? > 0.5) and (previous_year_rating > 1.5) and (avg_training_score <= 83.5) and (age > 51.5) and (length_of_service <= 7.5) then class: 0 (proba: 60.0%) | based on 15 samples\n",
      "if (avg_training_score <= 90.5) and (KPIs_met >80% <= 0.5) and (awards_won? > 0.5) and (avg_training_score > 58.5) and (previous_year_rating <= 3.5) and (recruitment_channel > 1.5) and (length_of_service <= 8.5) and (previous_year_rating <= 1.5) then class: 0 (proba: 53.33%) | based on 15 samples\n",
      "if (avg_training_score <= 90.5) and (KPIs_met >80% > 0.5) and (avg_training_score > 88.5) and (department <= 0.5) and (length_of_service <= 14.5) and (no_of_trainings <= 2.5) and (region > 1.5) and (gender <= 0.5) then class: 0 (proba: 64.29%) | based on 14 samples\n",
      "if (avg_training_score <= 90.5) and (KPIs_met >80% > 0.5) and (avg_training_score > 88.5) and (department > 0.5) and (department <= 6.5) and (department > 5.5) and (age <= 32.5) and (region > 9.5) then class: 0 (proba: 78.57%) | based on 14 samples\n",
      "if (avg_training_score <= 90.5) and (KPIs_met >80% > 0.5) and (avg_training_score > 88.5) and (department > 0.5) and (department <= 6.5) and (department > 5.5) and (age > 32.5) then class: 0 (proba: 100.0%) | based on 14 samples\n",
      "if (avg_training_score <= 90.5) and (KPIs_met >80% > 0.5) and (avg_training_score <= 88.5) and (awards_won? > 0.5) and (previous_year_rating <= 1.5) and (department <= 4.5) and (gender > 0.5) then class: 0 (proba: 100.0%) | based on 14 samples\n",
      "if (avg_training_score <= 90.5) and (KPIs_met >80% <= 0.5) and (awards_won? > 0.5) and (avg_training_score > 58.5) and (previous_year_rating <= 3.5) and (recruitment_channel > 1.5) and (length_of_service > 8.5) and (avg_training_score <= 83.0) then class: 0 (proba: 76.92%) | based on 13 samples\n",
      "if (avg_training_score > 90.5) and (department > 0.5) and (avg_training_score <= 92.5) and (department <= 6.5) and (department > 5.5) then class: 0 (proba: 100.0%) | based on 13 samples\n",
      "if (avg_training_score > 90.5) and (department > 0.5) and (avg_training_score > 92.5) and (region > 27.5) and (KPIs_met >80% <= 0.5) and (length_of_service > 4.5) then class: 0 (proba: 100.0%) | based on 12 samples\n",
      "if (avg_training_score <= 90.5) and (KPIs_met >80% <= 0.5) and (awards_won? > 0.5) and (avg_training_score <= 58.5) and (avg_training_score <= 57.5) and (avg_training_score > 55.5) and (department <= 5.5) then class: 0 (proba: 100.0%) | based on 12 samples\n",
      "if (avg_training_score <= 90.5) and (KPIs_met >80% > 0.5) and (avg_training_score <= 88.5) and (awards_won? > 0.5) and (previous_year_rating <= 1.5) and (department > 4.5) and (education > 1.5) and (previous_year_rating <= 0.5) then class: 0 (proba: 100.0%) | based on 10 samples\n",
      "if (avg_training_score <= 90.5) and (KPIs_met >80% > 0.5) and (avg_training_score <= 88.5) and (awards_won? > 0.5) and (previous_year_rating > 1.5) and (avg_training_score > 83.5) and (department <= 0.5) and (previous_year_rating <= 2.5) then class: 0 (proba: 100.0%) | based on 10 samples\n",
      "if (avg_training_score <= 90.5) and (KPIs_met >80% > 0.5) and (avg_training_score <= 88.5) and (awards_won? > 0.5) and (previous_year_rating > 1.5) and (avg_training_score > 83.5) and (department > 0.5) and (no_of_trainings > 1.5) then class: 0 (proba: 55.56%) | based on 9 samples\n",
      "if (avg_training_score > 90.5) and (department <= 0.5) and (avg_training_score <= 93.5) and (awards_won? > 0.5) then class: 0 (proba: 100.0%) | based on 9 samples\n",
      "if (avg_training_score <= 90.5) and (KPIs_met >80% <= 0.5) and (awards_won? > 0.5) and (avg_training_score > 58.5) and (previous_year_rating <= 3.5) and (recruitment_channel <= 1.5) and (avg_training_score > 81.5) and (region > 14.5) then class: 0 (proba: 77.78%) | based on 9 samples\n",
      "if (avg_training_score <= 90.5) and (KPIs_met >80% > 0.5) and (avg_training_score <= 88.5) and (awards_won? > 0.5) and (previous_year_rating <= 1.5) and (department > 4.5) and (education > 1.5) and (previous_year_rating > 0.5) then class: 0 (proba: 75.0%) | based on 8 samples\n",
      "if (avg_training_score <= 90.5) and (KPIs_met >80% > 0.5) and (avg_training_score <= 88.5) and (awards_won? > 0.5) and (previous_year_rating <= 1.5) and (department <= 4.5) and (gender <= 0.5) and (previous_year_rating <= 0.5) then class: 0 (proba: 75.0%) | based on 8 samples\n",
      "if (avg_training_score <= 90.5) and (KPIs_met >80% <= 0.5) and (awards_won? <= 0.5) and (previous_year_rating <= 3.5) and (avg_training_score <= 59.5) and (avg_training_score > 57.5) and (department > 5.5) and (no_of_trainings > 1.5) then class: 0 (proba: 87.5%) | based on 8 samples\n",
      "if (avg_training_score <= 90.5) and (KPIs_met >80% <= 0.5) and (awards_won? > 0.5) and (avg_training_score > 58.5) and (previous_year_rating > 3.5) and (avg_training_score > 62.5) and (age <= 49.5) and (region <= 5.0) then class: 0 (proba: 83.33%) | based on 6 samples\n",
      "if (avg_training_score <= 90.5) and (KPIs_met >80% > 0.5) and (avg_training_score <= 88.5) and (awards_won? > 0.5) and (previous_year_rating > 1.5) and (avg_training_score <= 83.5) and (age > 51.5) and (length_of_service > 7.5) then class: 0 (proba: 100.0%) | based on 5 samples\n",
      "if (avg_training_score > 90.5) and (department <= 0.5) and (avg_training_score <= 93.5) and (awards_won? <= 0.5) and (KPIs_met >80% > 0.5) and (education > 1.0) and (previous_year_rating > 3.5) then class: 0 (proba: 100.0%) | based on 5 samples\n",
      "if (avg_training_score <= 90.5) and (KPIs_met >80% <= 0.5) and (awards_won? > 0.5) and (avg_training_score <= 58.5) and (avg_training_score > 57.5) and (department <= 5.5) and (region <= 16.0) then class: 0 (proba: 100.0%) | based on 5 samples\n",
      "if (avg_training_score > 90.5) and (department <= 0.5) and (avg_training_score <= 93.5) and (awards_won? <= 0.5) and (KPIs_met >80% > 0.5) and (education <= 1.0) and (age <= 28.5) and (gender > 0.5) then class: 0 (proba: 100.0%) | based on 5 samples\n",
      "if (avg_training_score > 90.5) and (department <= 0.5) and (avg_training_score <= 93.5) and (awards_won? <= 0.5) and (KPIs_met >80% > 0.5) and (education <= 1.0) and (age > 28.5) and (age > 33.5) then class: 0 (proba: 80.0%) | based on 5 samples\n",
      "if (avg_training_score > 90.5) and (department > 0.5) and (avg_training_score > 92.5) and (region > 27.5) and (KPIs_met >80% <= 0.5) and (length_of_service <= 4.5) and (no_of_trainings <= 1.5) and (education <= 1.0) then class: 0 (proba: 100.0%) | based on 5 samples\n",
      "if (avg_training_score <= 90.5) and (KPIs_met >80% <= 0.5) and (awards_won? > 0.5) and (avg_training_score > 58.5) and (previous_year_rating > 3.5) and (avg_training_score <= 62.5) and (department > 5.5) then class: 0 (proba: 100.0%) | based on 4 samples\n",
      "if (avg_training_score <= 90.5) and (KPIs_met >80% <= 0.5) and (awards_won? > 0.5) and (avg_training_score > 58.5) and (previous_year_rating > 3.5) and (avg_training_score > 62.5) and (age > 49.5) and (avg_training_score > 66.0) then class: 0 (proba: 100.0%) | based on 4 samples\n",
      "if (avg_training_score > 90.5) and (department <= 0.5) and (avg_training_score <= 93.5) and (awards_won? <= 0.5) and (KPIs_met >80% <= 0.5) and (previous_year_rating > 3.5) and (region <= 19.5) then class: 0 (proba: 100.0%) | based on 4 samples\n",
      "if (avg_training_score > 90.5) and (department <= 0.5) and (avg_training_score > 93.5) and (avg_training_score <= 94.5) and (awards_won? > 0.5) then class: 0 (proba: 100.0%) | based on 4 samples\n",
      "if (avg_training_score <= 90.5) and (KPIs_met >80% <= 0.5) and (awards_won? > 0.5) and (avg_training_score > 58.5) and (previous_year_rating > 3.5) and (avg_training_score <= 62.5) and (department <= 5.5) and (length_of_service > 4.5) then class: 0 (proba: 100.0%) | based on 3 samples\n",
      "if (avg_training_score > 90.5) and (department > 0.5) and (avg_training_score > 92.5) and (region > 27.5) and (KPIs_met >80% <= 0.5) and (length_of_service <= 4.5) and (no_of_trainings <= 1.5) and (education > 1.0) then class: 0 (proba: 66.67%) | based on 3 samples\n",
      "if (avg_training_score <= 90.5) and (KPIs_met >80% > 0.5) and (avg_training_score > 88.5) and (department <= 0.5) and (length_of_service > 14.5) then class: 0 (proba: 100.0%) | based on 3 samples\n",
      "if (avg_training_score <= 90.5) and (KPIs_met >80% <= 0.5) and (awards_won? <= 0.5) and (previous_year_rating <= 3.5) and (avg_training_score > 59.5) and (avg_training_score > 87.5) and (department > 6.5) and (age <= 27.0) then class: 0 (proba: 66.67%) | based on 3 samples\n",
      "if (avg_training_score <= 90.5) and (KPIs_met >80% > 0.5) and (avg_training_score <= 88.5) and (awards_won? > 0.5) and (previous_year_rating <= 1.5) and (department <= 4.5) and (gender <= 0.5) and (previous_year_rating > 0.5) then class: 0 (proba: 100.0%) | based on 2 samples\n",
      "if (avg_training_score > 90.5) and (department <= 0.5) and (avg_training_score > 93.5) and (avg_training_score <= 94.5) and (awards_won? <= 0.5) and (previous_year_rating <= 3.0) then class: 0 (proba: 100.0%) | based on 2 samples\n",
      "if (avg_training_score <= 90.5) and (KPIs_met >80% > 0.5) and (avg_training_score > 88.5) and (department <= 0.5) and (length_of_service <= 14.5) and (no_of_trainings <= 2.5) and (region <= 1.5) and (age > 29.0) then class: 0 (proba: 100.0%) | based on 2 samples\n",
      "if (avg_training_score <= 90.5) and (KPIs_met >80% > 0.5) and (avg_training_score > 88.5) and (department <= 0.5) and (length_of_service <= 14.5) and (no_of_trainings > 2.5) and (age <= 27.5) then class: 0 (proba: 100.0%) | based on 2 samples\n",
      "if (avg_training_score > 90.5) and (department <= 0.5) and (avg_training_score <= 93.5) and (awards_won? <= 0.5) and (KPIs_met >80% <= 0.5) and (previous_year_rating <= 3.5) and (no_of_trainings > 2.5) and (region > 15.5) then class: 0 (proba: 100.0%) | based on 2 samples\n",
      "if (avg_training_score > 90.5) and (department <= 0.5) and (avg_training_score <= 93.5) and (awards_won? <= 0.5) and (KPIs_met >80% <= 0.5) and (previous_year_rating > 3.5) and (region > 19.5) then class: 0 (proba: 100.0%) | based on 2 samples\n",
      "if (avg_training_score <= 90.5) and (KPIs_met >80% <= 0.5) and (awards_won? > 0.5) and (avg_training_score <= 58.5) and (avg_training_score > 57.5) and (department > 5.5) then class: 0 (proba: 100.0%) | based on 2 samples\n",
      "if (avg_training_score <= 90.5) and (KPIs_met >80% <= 0.5) and (awards_won? > 0.5) and (avg_training_score > 58.5) and (previous_year_rating <= 3.5) and (recruitment_channel > 1.5) and (length_of_service > 8.5) and (avg_training_score > 83.0) then class: 0 (proba: 100.0%) | based on 2 samples\n",
      "if (avg_training_score > 90.5) and (department > 0.5) and (avg_training_score > 92.5) and (region > 27.5) and (KPIs_met >80% <= 0.5) and (length_of_service <= 4.5) and (no_of_trainings > 1.5) then class: 0 (proba: 100.0%) | based on 1 samples\n",
      "if (avg_training_score > 90.5) and (department <= 0.5) and (avg_training_score <= 93.5) and (awards_won? <= 0.5) and (KPIs_met >80% > 0.5) and (education <= 1.0) and (age <= 28.5) and (gender <= 0.5) then class: 0 (proba: 100.0%) | based on 1 samples\n",
      "if (avg_training_score <= 90.5) and (KPIs_met >80% <= 0.5) and (awards_won? > 0.5) and (avg_training_score <= 58.5) and (avg_training_score > 57.5) and (department <= 5.5) and (region > 16.0) and (age > 29.0) then class: 0 (proba: 100.0%) | based on 1 samples\n",
      "if (avg_training_score > 90.5) and (department <= 0.5) and (avg_training_score <= 93.5) and (awards_won? <= 0.5) and (KPIs_met >80% <= 0.5) and (previous_year_rating <= 3.5) and (no_of_trainings > 2.5) and (region <= 15.5) then class: 0 (proba: 100.0%) | based on 1 samples\n",
      "if (avg_training_score <= 90.5) and (KPIs_met >80% > 0.5) and (avg_training_score > 88.5) and (department > 0.5) and (department <= 6.5) and (department > 5.5) and (age <= 32.5) and (region <= 9.5) then class: 0 (proba: 100.0%) | based on 1 samples\n",
      "if (avg_training_score <= 90.5) and (KPIs_met >80% <= 0.5) and (awards_won? <= 0.5) and (previous_year_rating > 3.5) and (avg_training_score > 63.5) and (department <= 0.5) and (age > 30.5) and (age > 58.5) then class: 0 (proba: 100.0%) | based on 1 samples\n",
      "if (avg_training_score <= 90.5) and (KPIs_met >80% > 0.5) and (avg_training_score > 88.5) and (department <= 0.5) and (length_of_service <= 14.5) and (no_of_trainings > 2.5) and (age > 27.5) and (age > 32.5) then class: 0 (proba: 100.0%) | based on 1 samples\n",
      "if (avg_training_score <= 90.5) and (KPIs_met >80% > 0.5) and (avg_training_score > 88.5) and (department <= 0.5) and (length_of_service <= 14.5) and (no_of_trainings > 2.5) and (age > 27.5) and (age <= 32.5) then class: 0 (proba: 100.0%) | based on 1 samples\n",
      "if (avg_training_score <= 90.5) and (KPIs_met >80% <= 0.5) and (awards_won? > 0.5) and (avg_training_score <= 58.5) and (avg_training_score <= 57.5) and (avg_training_score > 55.5) and (department > 5.5) and (region <= 15.0) then class: 0 (proba: 100.0%) | based on 1 samples\n",
      "if (avg_training_score <= 90.5) and (KPIs_met >80% <= 0.5) and (awards_won? > 0.5) and (avg_training_score <= 58.5) and (avg_training_score <= 57.5) and (avg_training_score > 55.5) and (department > 5.5) and (region > 15.0) then class: 0 (proba: 100.0%) | based on 1 samples\n",
      "if (avg_training_score <= 90.5) and (KPIs_met >80% <= 0.5) and (awards_won? > 0.5) and (avg_training_score <= 58.5) and (avg_training_score > 57.5) and (department <= 5.5) and (region > 16.0) and (age <= 29.0) then class: 0 (proba: 100.0%) | based on 1 samples\n",
      "if (avg_training_score <= 90.5) and (KPIs_met >80% <= 0.5) and (awards_won? > 0.5) and (avg_training_score > 58.5) and (previous_year_rating > 3.5) and (avg_training_score <= 62.5) and (department <= 5.5) and (length_of_service <= 4.5) then class: 0 (proba: 100.0%) | based on 1 samples\n",
      "if (avg_training_score <= 90.5) and (KPIs_met >80% > 0.5) and (avg_training_score > 88.5) and (department <= 0.5) and (length_of_service <= 14.5) and (no_of_trainings <= 2.5) and (region <= 1.5) and (age <= 29.0) then class: 0 (proba: 100.0%) | based on 1 samples\n",
      "if (avg_training_score <= 90.5) and (KPIs_met >80% <= 0.5) and (awards_won? > 0.5) and (avg_training_score > 58.5) and (previous_year_rating > 3.5) and (avg_training_score > 62.5) and (age > 49.5) and (avg_training_score <= 66.0) then class: 0 (proba: 100.0%) | based on 1 samples\n",
      "if (avg_training_score > 90.5) and (department <= 0.5) and (avg_training_score <= 93.5) and (awards_won? <= 0.5) and (KPIs_met >80% > 0.5) and (education > 1.0) and (previous_year_rating <= 3.5) and (region <= 21.5) then class: 0 (proba: 100.0%) | based on 1 samples\n",
      "if (avg_training_score <= 90.5) and (KPIs_met >80% > 0.5) and (avg_training_score <= 88.5) and (awards_won? <= 0.5) and (department <= 4.5) and (region <= 12.5) and (no_of_trainings > 4.5) then class: 0 (proba: 100.0%) | based on 1 samples\n",
      "if (avg_training_score > 90.5) and (department <= 0.5) and (avg_training_score > 93.5) and (avg_training_score <= 94.5) and (awards_won? <= 0.5) and (previous_year_rating > 3.0) then class: 0 (proba: 100.0%) | based on 1 samples\n",
      "if (avg_training_score <= 90.5) and (KPIs_met >80% > 0.5) and (avg_training_score <= 88.5) and (awards_won? <= 0.5) and (department > 4.5) and (length_of_service <= 7.5) and (previous_year_rating <= 1.5) and (avg_training_score > 87.5) then class: 0 (proba: 100.0%) | based on 1 samples\n",
      "if (avg_training_score > 90.5) and (department <= 0.5) and (avg_training_score <= 93.5) and (awards_won? <= 0.5) and (KPIs_met >80% > 0.5) and (education > 1.0) and (previous_year_rating <= 3.5) and (region > 21.5) then class: 0 (proba: 100.0%) | based on 1 samples\n"
     ]
    }
   ],
   "source": [
    "rules = get_rules(tree,X.columns,y)\n",
    "for r in rules:\n",
    "    print(r)"
   ]
  },
  {
   "cell_type": "code",
   "execution_count": 793,
   "id": "9a631ad5",
   "metadata": {},
   "outputs": [],
   "source": [
    "hrtestdf=hrtestdf.drop('employee_id',axis=1)"
   ]
  },
  {
   "cell_type": "code",
   "execution_count": 794,
   "id": "9b4d88ea",
   "metadata": {},
   "outputs": [],
   "source": [
    "# Predict on test data\n",
    "hrlogitpredict=logitmodel.predict(hrtestdf)"
   ]
  },
  {
   "cell_type": "code",
   "execution_count": 795,
   "id": "17a81407",
   "metadata": {},
   "outputs": [],
   "source": [
    "pd.DataFrame(hrlogitpredict).to_csv('logistic.csv')"
   ]
  },
  {
   "cell_type": "code",
   "execution_count": 796,
   "id": "40a7adfd",
   "metadata": {},
   "outputs": [],
   "source": [
    "dectreepredict=treemodel.predict(hrtestdf)"
   ]
  },
  {
   "cell_type": "code",
   "execution_count": 797,
   "id": "d9728819",
   "metadata": {},
   "outputs": [],
   "source": [
    "pd.DataFrame(dectreepredict).to_csv('dectree.csv')"
   ]
  },
  {
   "cell_type": "code",
   "execution_count": 798,
   "id": "25defdde",
   "metadata": {},
   "outputs": [],
   "source": [
    "RFpredict=RFmodel.predict(hrtestdf)"
   ]
  },
  {
   "cell_type": "code",
   "execution_count": 799,
   "id": "8ddb2d66",
   "metadata": {},
   "outputs": [],
   "source": [
    "pd.DataFrame(RFpredict).to_csv('RF.csv')"
   ]
  },
  {
   "cell_type": "code",
   "execution_count": 800,
   "id": "e70f40c1",
   "metadata": {},
   "outputs": [],
   "source": [
    "# AV HR analytics submission scores\n",
    "# logistic regression - 0.11415\n",
    "# Decision tree - 0.33503\n",
    "# Random forest - 0.41030\n",
    "# Gradient Boosting -  0.48110\n",
    "# XGBOOST - 0.48124"
   ]
  },
  {
   "cell_type": "code",
   "execution_count": 801,
   "id": "69278f7b",
   "metadata": {},
   "outputs": [],
   "source": [
    "from sklearn.ensemble import GradientBoostingClassifier"
   ]
  },
  {
   "cell_type": "code",
   "execution_count": 802,
   "id": "16438e8f",
   "metadata": {},
   "outputs": [],
   "source": [
    "gbm=GradientBoostingClassifier(n_estimators=1000)"
   ]
  },
  {
   "cell_type": "code",
   "execution_count": 803,
   "id": "b68c206b",
   "metadata": {},
   "outputs": [],
   "source": [
    "gbmmodel=gbm.fit(X,y)"
   ]
  },
  {
   "cell_type": "code",
   "execution_count": 804,
   "id": "862c4bbf",
   "metadata": {},
   "outputs": [
    {
     "data": {
      "text/plain": [
       "0.9449350459786893"
      ]
     },
     "execution_count": 804,
     "metadata": {},
     "output_type": "execute_result"
    }
   ],
   "source": [
    "gbmmodel.score(X,y)"
   ]
  },
  {
   "cell_type": "code",
   "execution_count": 805,
   "id": "1a0e1456",
   "metadata": {},
   "outputs": [],
   "source": [
    "gbmpredict=gbmmodel.predict(hrtestdf)"
   ]
  },
  {
   "cell_type": "code",
   "execution_count": 806,
   "id": "f2f12482",
   "metadata": {},
   "outputs": [],
   "source": [
    "pd.DataFrame(gbmpredict).to_csv('gbm.csv')"
   ]
  },
  {
   "cell_type": "code",
   "execution_count": 807,
   "id": "52db6047",
   "metadata": {},
   "outputs": [],
   "source": [
    "import xgboost as xgb"
   ]
  },
  {
   "cell_type": "code",
   "execution_count": 808,
   "id": "974c87e2",
   "metadata": {},
   "outputs": [],
   "source": [
    "xgb_class=xgb.XGBClassifier(n_estimators=1000)"
   ]
  },
  {
   "cell_type": "code",
   "execution_count": 809,
   "id": "791ac838",
   "metadata": {},
   "outputs": [
    {
     "name": "stderr",
     "output_type": "stream",
     "text": [
      "C:\\Users\\harsh\\anaconda3\\lib\\site-packages\\xgboost\\sklearn.py:1224: UserWarning: The use of label encoder in XGBClassifier is deprecated and will be removed in a future release. To remove this warning, do the following: 1) Pass option use_label_encoder=False when constructing XGBClassifier object; and 2) Encode your labels (y) as integers starting with 0, i.e. 0, 1, 2, ..., [num_class - 1].\n",
      "  warnings.warn(label_encoder_deprecation_msg, UserWarning)\n",
      "C:\\Users\\harsh\\anaconda3\\lib\\site-packages\\xgboost\\data.py:262: FutureWarning: pandas.Int64Index is deprecated and will be removed from pandas in a future version. Use pandas.Index with the appropriate dtype instead.\n",
      "  elif isinstance(data.columns, (pd.Int64Index, pd.RangeIndex)):\n"
     ]
    },
    {
     "name": "stdout",
     "output_type": "stream",
     "text": [
      "[10:14:01] WARNING: D:\\bld\\xgboost-split_1645118015404\\work\\src\\learner.cc:1115: Starting in XGBoost 1.3.0, the default evaluation metric used with the objective 'binary:logistic' was changed from 'error' to 'logloss'. Explicitly set eval_metric if you'd like to restore the old behavior.\n"
     ]
    }
   ],
   "source": [
    "xgbmodel=xgb_class.fit(X,y)"
   ]
  },
  {
   "cell_type": "code",
   "execution_count": 810,
   "id": "90a37f82",
   "metadata": {},
   "outputs": [
    {
     "data": {
      "text/plain": [
       "0.9904028608962195"
      ]
     },
     "execution_count": 810,
     "metadata": {},
     "output_type": "execute_result"
    }
   ],
   "source": [
    "xgbmodel.score(X,y)"
   ]
  },
  {
   "cell_type": "code",
   "execution_count": 811,
   "id": "b7757d8a",
   "metadata": {},
   "outputs": [
    {
     "name": "stderr",
     "output_type": "stream",
     "text": [
      "C:\\Users\\harsh\\anaconda3\\lib\\site-packages\\xgboost\\data.py:262: FutureWarning: pandas.Int64Index is deprecated and will be removed from pandas in a future version. Use pandas.Index with the appropriate dtype instead.\n",
      "  elif isinstance(data.columns, (pd.Int64Index, pd.RangeIndex)):\n"
     ]
    }
   ],
   "source": [
    "xgbpredict=xgbmodel.predict(hrtestdf)"
   ]
  },
  {
   "cell_type": "code",
   "execution_count": 812,
   "id": "74ae144f",
   "metadata": {},
   "outputs": [],
   "source": [
    "pd.DataFrame(xgbpredict).to_csv('xgb.csv')"
   ]
  },
  {
   "cell_type": "code",
   "execution_count": 813,
   "id": "e2973e4a",
   "metadata": {},
   "outputs": [],
   "source": [
    "from sklearn.svm import SVC"
   ]
  },
  {
   "cell_type": "code",
   "execution_count": 814,
   "id": "d49f8e17",
   "metadata": {},
   "outputs": [],
   "source": [
    "svm=SVC(C=0.80)  # smaller c value the larger margin hyperplane"
   ]
  },
  {
   "cell_type": "code",
   "execution_count": 815,
   "id": "f9069744",
   "metadata": {},
   "outputs": [],
   "source": [
    "svmmodel=svm.fit(X,y)"
   ]
  },
  {
   "cell_type": "code",
   "execution_count": 816,
   "id": "897dcf46",
   "metadata": {},
   "outputs": [
    {
     "data": {
      "text/plain": [
       "0.9148299518318493"
      ]
     },
     "execution_count": 816,
     "metadata": {},
     "output_type": "execute_result"
    }
   ],
   "source": [
    "svmmodel.score(X,y)"
   ]
  },
  {
   "cell_type": "code",
   "execution_count": 817,
   "id": "91357690",
   "metadata": {},
   "outputs": [],
   "source": [
    "svmpredict=svmmodel.predict(hrtestdf)"
   ]
  },
  {
   "cell_type": "code",
   "execution_count": 818,
   "id": "0323ad07",
   "metadata": {},
   "outputs": [],
   "source": [
    "pd.DataFrame(svmpredict).to_csv('svm.csv')"
   ]
  },
  {
   "cell_type": "code",
   "execution_count": null,
   "id": "8a965602",
   "metadata": {},
   "outputs": [],
   "source": []
  }
 ],
 "metadata": {
  "kernelspec": {
   "display_name": "Python 3 (ipykernel)",
   "language": "python",
   "name": "python3"
  },
  "language_info": {
   "codemirror_mode": {
    "name": "ipython",
    "version": 3
   },
   "file_extension": ".py",
   "mimetype": "text/x-python",
   "name": "python",
   "nbconvert_exporter": "python",
   "pygments_lexer": "ipython3",
   "version": "3.9.12"
  }
 },
 "nbformat": 4,
 "nbformat_minor": 5
}
